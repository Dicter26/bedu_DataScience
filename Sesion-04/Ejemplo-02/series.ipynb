{
  "cells": [
    {
      "cell_type": "markdown",
      "metadata": {
        "id": "FRkYucLGzROr"
      },
      "source": [
        "## Ejemplo 2: Series\n",
        "\n",
        "### 1. Objetivos:\n",
        "    - Entender qué son las `Series`\n",
        "    - Aprender a crear `Series` de pandas\n",
        "    - Aprender los métodos básicos de indexación de las `Series`\n",
        "\n",
        "---\n",
        "    \n",
        "### 2. Desarrollo:"
      ]
    },
    {
      "cell_type": "code",
      "execution_count": 1,
      "metadata": {
        "id": "Y-WncPvBzROt"
      },
      "outputs": [],
      "source": [
        "import pandas as pd"
      ]
    },
    {
      "cell_type": "markdown",
      "metadata": {
        "id": "C4HnvN0wzROv"
      },
      "source": [
        "Las `Series` son secuencias ordenadas de unidimensionales que pueden contener diferentes tipos de valores. En esto se parecen a las `listas`. De hecho podemos crear `Series` usando `listas`."
      ]
    },
    {
      "cell_type": "code",
      "execution_count": 2,
      "metadata": {
        "id": "KFyK7W57zROv"
      },
      "outputs": [],
      "source": [
        "serie_1 = pd.Series([3, 7, 9, 8])"
      ]
    },
    {
      "cell_type": "markdown",
      "metadata": {
        "id": "HC2tc3r8zROv"
      },
      "source": [
        "Una gran diferencia que tienen con las `listas` es que cada elemento en una `Serie` tiene un índice asociado que no necesariamente es una secuencia de enteros como en las `listas`. En este aspecto, nuestras `Series` se parecen a los `diccionarios`:"
      ]
    },
    {
      "cell_type": "code",
      "execution_count": 3,
      "metadata": {
        "id": "auQbydPozROw",
        "outputId": "a1b86cd5-e0fe-403e-b4a3-711e475f1c76",
        "colab": {
          "base_uri": "https://localhost:8080/"
        }
      },
      "outputs": [
        {
          "output_type": "execute_result",
          "data": {
            "text/plain": [
              "0    3\n",
              "1    7\n",
              "2    9\n",
              "3    8\n",
              "dtype: int64"
            ]
          },
          "metadata": {},
          "execution_count": 3
        }
      ],
      "source": [
        "serie_1"
      ]
    },
    {
      "cell_type": "markdown",
      "metadata": {
        "id": "YSdSbGc5zROx"
      },
      "source": [
        "La columna de la izquierda es nuestro índice, la columna de la derecha son los datos almacenados en la `Serie`. El texto en la parte inferior es el tipo de dato que tenemos en nuestra `Serie`.\n",
        "\n",
        "Los tipos de datos más comunes que podemos encontrar son:\n",
        "\n",
        "1. `int64`: Equivalente a `int`\n",
        "2. `float64`: Equivalente a `float`\n",
        "3. `bool`: Equivalente a `bool` (duh)\n",
        "4. `object`: Equivalente a `str`, o indica que hay una mezcla de tipos de datos numéricos y no-numéricos en la `Serie`\n",
        "\n",
        "> **Importante**: Tener `Series` que contengan diversos tipos de datos es una **muy mala** práctica. Lo recomendable es siempre tener homogeneidad de tipos de dato en cada `Serie` que tengamos. De todas maneras, se encontrarán por ahí algunos conjuntos de datos que contienen `Series` con tipos de datos diversos. Es por eso que cuando nos topemos con un tipo de dato `obj` tenemos que ser cuidadosos y no asumir automáticamente que el tipo de dato incluido son `strings`."
      ]
    },
    {
      "cell_type": "markdown",
      "metadata": {
        "id": "nAoOdDvuzROy"
      },
      "source": [
        "Podemos crear `Series` con un índice customizado:"
      ]
    },
    {
      "cell_type": "code",
      "execution_count": 4,
      "metadata": {
        "id": "BqpNulc7zROy",
        "outputId": "ac8fe6e5-47da-417d-8799-f52d005a07ac",
        "colab": {
          "base_uri": "https://localhost:8080/"
        }
      },
      "outputs": [
        {
          "output_type": "execute_result",
          "data": {
            "text/plain": [
              "10    4\n",
              "11    7\n",
              "12    9\n",
              "13    8\n",
              "dtype: int64"
            ]
          },
          "metadata": {},
          "execution_count": 4
        }
      ],
      "source": [
        "serie_2 = pd.Series([4, 7, 9, 8], index=[10, 11, 12, 13])\n",
        "\n",
        "serie_2"
      ]
    },
    {
      "cell_type": "markdown",
      "metadata": {
        "id": "jfEeUyR-zROz"
      },
      "source": [
        "Incluso podemos usar `strings` en el índice:"
      ]
    },
    {
      "cell_type": "code",
      "execution_count": 5,
      "metadata": {
        "id": "GC2yoZB6zROz",
        "outputId": "13ef0ea0-46ca-4e48-8a1e-3e72151aa0b4",
        "colab": {
          "base_uri": "https://localhost:8080/"
        }
      },
      "outputs": [
        {
          "output_type": "execute_result",
          "data": {
            "text/plain": [
              "a    5\n",
              "b    8\n",
              "c    7\n",
              "d    2\n",
              "dtype: int64"
            ]
          },
          "metadata": {},
          "execution_count": 5
        }
      ],
      "source": [
        "serie_3 = pd.Series([5, 8, 7, 2], index=['a', 'b', 'c', 'd'])\n",
        "\n",
        "serie_3"
      ]
    },
    {
      "cell_type": "markdown",
      "metadata": {
        "id": "8OaILsj5zROz"
      },
      "source": [
        "Debido a su similitud, podemos incluso crear `Series` usando `diccionarios`:"
      ]
    },
    {
      "cell_type": "code",
      "execution_count": 6,
      "metadata": {
        "id": "_ThCdz1TzRO0",
        "outputId": "b5e0542b-277c-42cf-ff14-a0b38887d0c6",
        "colab": {
          "base_uri": "https://localhost:8080/"
        }
      },
      "outputs": [
        {
          "output_type": "execute_result",
          "data": {
            "text/plain": [
              "Juan         45\n",
              "Pepe         56\n",
              "Alfonsina    12\n",
              "Jenny        49\n",
              "Marco P.     12\n",
              "dtype: int64"
            ]
          },
          "metadata": {},
          "execution_count": 6
        }
      ],
      "source": [
        "datos = {\n",
        "    \"Juan\": 45,\n",
        "    \"Pepe\": 56,\n",
        "    \"Alfonsina\": 12,\n",
        "    \"Jenny\": 49,\n",
        "    \"Marco P.\": 12\n",
        "}\n",
        "\n",
        "serie_4 = pd.Series(datos)\n",
        "\n",
        "serie_4"
      ]
    },
    {
      "cell_type": "markdown",
      "metadata": {
        "id": "WfZdqYDLzRO0"
      },
      "source": [
        "Al igual que en las listas, podemos acceder a nuestros datos usando el `operador de indexación`. La diferencia es que en una `Serie` tenemos que incluir el operador `loc` para indicarle a la `Serie` que estamos accesándola usando los nombres de los índices:"
      ]
    },
    {
      "cell_type": "code",
      "execution_count": 7,
      "metadata": {
        "id": "qd_Am6qPzRO0",
        "outputId": "cceacd2f-0270-4318-aa56-29fbce214a6f",
        "colab": {
          "base_uri": "https://localhost:8080/"
        }
      },
      "outputs": [
        {
          "output_type": "execute_result",
          "data": {
            "text/plain": [
              "9"
            ]
          },
          "metadata": {},
          "execution_count": 7
        }
      ],
      "source": [
        "serie_1.loc[2]"
      ]
    },
    {
      "cell_type": "code",
      "execution_count": 8,
      "metadata": {
        "id": "EaaK4ZArzRO1",
        "outputId": "c8e77a6b-e0a6-4255-8b77-fb445a016a23",
        "colab": {
          "base_uri": "https://localhost:8080/"
        }
      },
      "outputs": [
        {
          "output_type": "execute_result",
          "data": {
            "text/plain": [
              "9"
            ]
          },
          "metadata": {},
          "execution_count": 8
        }
      ],
      "source": [
        "serie_2.loc[12]"
      ]
    },
    {
      "cell_type": "markdown",
      "metadata": {
        "id": "Q55Sf_i0zRO1"
      },
      "source": [
        "También podemos usar también `strings` como argumento:"
      ]
    },
    {
      "cell_type": "code",
      "execution_count": 9,
      "metadata": {
        "id": "HS3QkkDqzRO1",
        "outputId": "0c1a03a6-741d-4a87-bbdc-69928e2c7509",
        "colab": {
          "base_uri": "https://localhost:8080/"
        }
      },
      "outputs": [
        {
          "output_type": "execute_result",
          "data": {
            "text/plain": [
              "7"
            ]
          },
          "metadata": {},
          "execution_count": 9
        }
      ],
      "source": [
        "serie_3.loc['c']"
      ]
    },
    {
      "cell_type": "code",
      "execution_count": 10,
      "metadata": {
        "id": "Ls7j2Cw1zRO2",
        "outputId": "b88b2215-352f-456c-d97a-5123edee061b",
        "colab": {
          "base_uri": "https://localhost:8080/"
        }
      },
      "outputs": [
        {
          "output_type": "execute_result",
          "data": {
            "text/plain": [
              "12"
            ]
          },
          "metadata": {},
          "execution_count": 10
        }
      ],
      "source": [
        "serie_4.loc['Marco P.']"
      ]
    },
    {
      "cell_type": "markdown",
      "metadata": {
        "id": "s4zO35wgzRO2"
      },
      "source": [
        "¡Vayamos a nuestro primer Reto!"
      ]
    },
    {
      "cell_type": "code",
      "execution_count": null,
      "metadata": {
        "id": "x0j_eVmGzRO3"
      },
      "outputs": [],
      "source": []
    }
  ],
  "metadata": {
    "kernelspec": {
      "display_name": "Python (data_science)",
      "language": "python",
      "name": "data_science"
    },
    "language_info": {
      "codemirror_mode": {
        "name": "ipython",
        "version": 3
      },
      "file_extension": ".py",
      "mimetype": "text/x-python",
      "name": "python",
      "nbconvert_exporter": "python",
      "pygments_lexer": "ipython3",
      "version": "3.8.5"
    },
    "colab": {
      "provenance": []
    }
  },
  "nbformat": 4,
  "nbformat_minor": 0
}