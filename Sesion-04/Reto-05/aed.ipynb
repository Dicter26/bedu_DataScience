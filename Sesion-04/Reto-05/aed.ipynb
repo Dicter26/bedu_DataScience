{
  "cells": [
    {
      "cell_type": "markdown",
      "metadata": {
        "id": "nMIk3a_PV8Oq"
      },
      "source": [
        "## Reto 5: Análisis Exploratorio de Datos\n",
        "\n",
        "### 1. Objetivos:\n",
        "    - Practicar leer archivos JSON usando pandas\n",
        "    - Practicar hacerse preguntas acerca de los conjuntos de datos que tenemos\n",
        "\n",
        "---\n",
        "    \n",
        "### 2. Desarrollo:"
      ]
    },
    {
      "cell_type": "markdown",
      "metadata": {
        "id": "N_gaq4nOV8Os"
      },
      "source": [
        "Vamos a practicar explorar conjuntos de datos y hacernos preguntas acerca de ellos.\n",
        "\n",
        "Tenemos un conjunto de datos en formato JSON almacenado en '../../Datasets/new_york_times_bestsellers-clean.json' (en la carpeta /Datasets en el directorio raíz del módulo).\n",
        "\n",
        "Primero que nada, lee el archivo JSON y crea un `DataFrame` con él:"
      ]
    },
    {
      "cell_type": "code",
      "execution_count": 4,
      "metadata": {
        "id": "-Twfd7L1V8Os",
        "outputId": "72f1a942-c87c-4cfe-eada-17b49a9c8f19",
        "colab": {
          "base_uri": "https://localhost:8080/"
        }
      },
      "outputs": [
        {
          "output_type": "stream",
          "name": "stdout",
          "text": [
            "Drive already mounted at /content/drive; to attempt to forcibly remount, call drive.mount(\"/content/drive\", force_remount=True).\n"
          ]
        }
      ],
      "source": [
        "## Realiza aquí los imports que necesites\n",
        "import json\n",
        "import pandas as pd\n",
        "from google.colab import drive\n",
        "drive.mount('/content/drive')\n",
        "\n",
        "## Lee aquí tu archivo JSON\n",
        "f = open('/content/drive/MyDrive/Datasets/new_york_times_bestsellers-clean.json', 'r')\n",
        "\n",
        "## Crea aquí tu DataFrame\n",
        "json_data = json.load(f)\n",
        "f.close()\n",
        "df = pd.DataFrame.from_dict(json_data)\n"
      ]
    },
    {
      "cell_type": "markdown",
      "metadata": {
        "id": "52nu_LHvV8Ot"
      },
      "source": [
        "Ahora, usando todas las herramientas que hemos aprendido en esta sesión (indexación de filas y columnas, `shape`, `dtypes`, `head`, `tail`, `columns`, `info`, etc) explora tu dataset y debate con el experto y tus compañeros las siguientes preguntas:\n",
        "\n",
        "1. ¿Qué podemos saber de este dataset con tan sólo leer el nombre del archivo y los nombres de las columnas?\n",
        "2. ¿Cuál es el tamaño (forma) de nuestro DataFrame? ¿Podríamos considerarlo un dataset grande o pequeño?\n",
        "3. ¿Crees que los nombres de las columnas son suficientemente descriptivos? ¿Podrían ser más claros o limpios?\n",
        "4. ¿Qué tipos de datos tenemos?\n",
        "5. ¿Qué significa el formato en el que tenemos las fechas?\n",
        "6. ¿Qué tipo de preguntas podríamos responder usando los datos numéricos de este dataset?\n",
        "7. ¿Qué tipo de preguntas podríamos responder usando los datos no-numéricos?"
      ]
    },
    {
      "cell_type": "code",
      "execution_count": 11,
      "metadata": {
        "id": "BGpYH-EcV8Ou",
        "outputId": "881a56a1-8258-487d-8a92-de6b840ecc94",
        "colab": {
          "base_uri": "https://localhost:8080/"
        }
      },
      "outputs": [
        {
          "output_type": "stream",
          "name": "stdout",
          "text": [
            "<class 'pandas.core.frame.DataFrame'>\n",
            "Index: 3033 entries, 0 to 3032\n",
            "Data columns (total 12 columns):\n",
            " #   Column                       Non-Null Count  Dtype  \n",
            "---  ------                       --------------  -----  \n",
            " 0   amazon_product_url           3033 non-null   object \n",
            " 1   author                       3033 non-null   object \n",
            " 2   description                  3033 non-null   object \n",
            " 3   publisher                    3033 non-null   object \n",
            " 4   title                        3033 non-null   object \n",
            " 5   oid                          3033 non-null   object \n",
            " 6   bestsellers_date.numberLong  3033 non-null   int64  \n",
            " 7   published_date.numberLong    3033 non-null   int64  \n",
            " 8   rank.numberInt               3033 non-null   int64  \n",
            " 9   rank_last_week.numberInt     3033 non-null   int64  \n",
            " 10  weeks_on_list.numberInt      3033 non-null   int64  \n",
            " 11  price.numberDouble           3033 non-null   float64\n",
            "dtypes: float64(1), int64(5), object(6)\n",
            "memory usage: 372.6+ KB\n"
          ]
        },
        {
          "output_type": "execute_result",
          "data": {
            "text/plain": [
              "Index(['amazon_product_url', 'author', 'description', 'publisher', 'title',\n",
              "       'oid', 'bestsellers_date.numberLong', 'published_date.numberLong',\n",
              "       'rank.numberInt', 'rank_last_week.numberInt', 'weeks_on_list.numberInt',\n",
              "       'price.numberDouble'],\n",
              "      dtype='object')"
            ]
          },
          "metadata": {},
          "execution_count": 11
        }
      ],
      "source": [
        "df.shape\n",
        "df.info()\n",
        "df.dtypes\n",
        "df.columns"
      ]
    }
  ],
  "metadata": {
    "kernelspec": {
      "display_name": "Python 3",
      "language": "python",
      "name": "python3"
    },
    "language_info": {
      "codemirror_mode": {
        "name": "ipython",
        "version": 3
      },
      "file_extension": ".py",
      "mimetype": "text/x-python",
      "name": "python",
      "nbconvert_exporter": "python",
      "pygments_lexer": "ipython3",
      "version": "3.8.3"
    },
    "colab": {
      "provenance": []
    }
  },
  "nbformat": 4,
  "nbformat_minor": 0
}