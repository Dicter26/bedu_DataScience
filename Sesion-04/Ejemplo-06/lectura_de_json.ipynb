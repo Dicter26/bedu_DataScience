{
  "cells": [
    {
      "cell_type": "markdown",
      "metadata": {
        "id": "oul5bKe9_rJA"
      },
      "source": [
        "## Ejemplo 6: Lectura de JSON\n",
        "\n",
        "### 1. Objetivos:\n",
        "    - Aprender a leer archivos JSON y crear `DataFrames` con ellos\n",
        "\n",
        "---\n",
        "    \n",
        "### 2. Desarrollo:"
      ]
    },
    {
      "cell_type": "code",
      "execution_count": 9,
      "metadata": {
        "id": "PfTfPM4h_rJD"
      },
      "outputs": [],
      "source": [
        "import pandas as pd"
      ]
    },
    {
      "cell_type": "markdown",
      "metadata": {
        "id": "_j2hyxq2_rJE"
      },
      "source": [
        "Primero tenemos que importar la librería `json` que nos ayuda a lidiar con formato JSON en Python:"
      ]
    },
    {
      "cell_type": "code",
      "execution_count": 11,
      "metadata": {
        "id": "0VdHGzUV_rJE",
        "outputId": "01564fc0-e45c-4649-be69-3312f60083fe",
        "colab": {
          "base_uri": "https://localhost:8080/"
        }
      },
      "outputs": [
        {
          "output_type": "stream",
          "name": "stdout",
          "text": [
            "Drive already mounted at /content/drive; to attempt to forcibly remount, call drive.mount(\"/content/drive\", force_remount=True).\n"
          ]
        }
      ],
      "source": [
        "import json\n",
        "from google.colab import drive\n",
        "drive.mount('/content/drive')"
      ]
    },
    {
      "cell_type": "markdown",
      "metadata": {
        "id": "b73lN0x-_rJF"
      },
      "source": [
        "Después leemos el archivo JSON usando `open`:"
      ]
    },
    {
      "cell_type": "code",
      "execution_count": 13,
      "metadata": {
        "id": "G-T7CvUj_rJF"
      },
      "outputs": [],
      "source": [
        "f = open('/content/drive/MyDrive/Datasets/zomato_reviews-clean.json', 'r')"
      ]
    },
    {
      "cell_type": "markdown",
      "metadata": {
        "id": "WJzbgQQs_rJF"
      },
      "source": [
        "La ruta (o `path`) puede ser absoluto o relativo (en el Prework hay un link donde se explica esto con más claridad). El `'r'` significa que queremos leer el archivo (`read`)."
      ]
    },
    {
      "cell_type": "markdown",
      "metadata": {
        "id": "J-9KNTFT_rJG"
      },
      "source": [
        "Después convertimos nuestro archivo JSON en un diccionario de Python:"
      ]
    },
    {
      "cell_type": "code",
      "execution_count": 14,
      "metadata": {
        "id": "V0t_wkR1_rJG"
      },
      "outputs": [],
      "source": [
        "json_data = json.load(f)"
      ]
    },
    {
      "cell_type": "markdown",
      "metadata": {
        "id": "pby8WES6_rJG"
      },
      "source": [
        "Después cerramos nuestro archivo:"
      ]
    },
    {
      "cell_type": "code",
      "execution_count": 15,
      "metadata": {
        "id": "MXJ2Rpie_rJH"
      },
      "outputs": [],
      "source": [
        "f.close()"
      ]
    },
    {
      "cell_type": "markdown",
      "metadata": {
        "id": "xfhESkik_rJH"
      },
      "source": [
        "Y finalmente pasamos el diccionario a `pandas.DataFrame.from_dict` para crear un `DataFrame`:"
      ]
    },
    {
      "cell_type": "code",
      "execution_count": 16,
      "metadata": {
        "id": "OiGBHSZ6_rJI"
      },
      "outputs": [],
      "source": [
        "df = pd.DataFrame.from_dict(json_data)"
      ]
    },
    {
      "cell_type": "code",
      "execution_count": 17,
      "metadata": {
        "id": "BQRZOtAS_rJI",
        "outputId": "8be040fd-d0a9-4fde-fd94-af4a461ea8e7",
        "colab": {
          "base_uri": "https://localhost:8080/",
          "height": 607
        }
      },
      "outputs": [
        {
          "output_type": "execute_result",
          "data": {
            "text/plain": [
              "      has_online_delivery  price_range currency                        name  \\\n",
              "0                       1            3      Rs.            Hauz Khas Social   \n",
              "1                       0            3      Rs.  Qubitos - The Terrace Cafe   \n",
              "2                       1            2      Rs.             The Hudson Cafe   \n",
              "3                       0            3      Rs.           Summer House Cafe   \n",
              "4                       0            3      Rs.                 38 Barracks   \n",
              "...                   ...          ...      ...                         ...   \n",
              "1175                    0            3        £               The Boozy Cow   \n",
              "1176                    0            3        £                 La Favorita   \n",
              "1177                    0            3        £           Roseleaf Bar Cafe   \n",
              "1178                    0            3        £                   Civerinos   \n",
              "1179                    0            3        £             The Hanging Bat   \n",
              "\n",
              "                                               cuisines  \\\n",
              "0            Continental, American, Asian, North Indian   \n",
              "1     Thai, European, Mexican, North Indian, Chinese...   \n",
              "2                   Cafe, Italian, Continental, Chinese   \n",
              "3                                  Italian, Continental   \n",
              "4                North Indian, Italian, Asian, American   \n",
              "...                                                 ...   \n",
              "1175                                      Burger, Grill   \n",
              "1176                                            Italian   \n",
              "1177                                     Scottish, Cafe   \n",
              "1178                                     Pizza, Italian   \n",
              "1179                                           American   \n",
              "\n",
              "                                       location.address location.city  \\\n",
              "0                9-A & 12, Hauz Khas Village, New Delhi     New Delhi   \n",
              "1     C-7, Vishal Enclave, Opposite Metro Pillar 417...     New Delhi   \n",
              "2     2524, 1st Floor, Hudson Lane, Delhi University...     New Delhi   \n",
              "3     1st Floor, DDA Shopping Complex, Aurobindo Pla...     New Delhi   \n",
              "4        M-38, Outer Circle, Connaught Place, New Delhi     New Delhi   \n",
              "...                                                 ...           ...   \n",
              "1175   17 Frederick Street, New Town, Edinburgh EH2 2EY     Edinburgh   \n",
              "1176       325-331 Leith Walk, Leith, Edinburgh EH6 8SA     Edinburgh   \n",
              "1177     23-24 Sandport Place, Leith, Edinburgh EH6 6EW     Edinburgh   \n",
              "1178  5 Hunter Square, Royal Mile, Old Town, Edinbur...     Edinburgh   \n",
              "1179      133 Lothian Road, Old Town, Edinburgh EH3 9AD     Edinburgh   \n",
              "\n",
              "     user_rating.rating_text  \n",
              "0                  Very Good  \n",
              "1                  Excellent  \n",
              "2                  Very Good  \n",
              "3                  Very Good  \n",
              "4                  Very Good  \n",
              "...                      ...  \n",
              "1175               Very Good  \n",
              "1176               Excellent  \n",
              "1177               Excellent  \n",
              "1178                    Good  \n",
              "1179                    Good  \n",
              "\n",
              "[1180 rows x 8 columns]"
            ],
            "text/html": [
              "\n",
              "\n",
              "  <div id=\"df-cbd583b9-3db4-4c96-ae52-54eee1dbe544\">\n",
              "    <div class=\"colab-df-container\">\n",
              "      <div>\n",
              "<style scoped>\n",
              "    .dataframe tbody tr th:only-of-type {\n",
              "        vertical-align: middle;\n",
              "    }\n",
              "\n",
              "    .dataframe tbody tr th {\n",
              "        vertical-align: top;\n",
              "    }\n",
              "\n",
              "    .dataframe thead th {\n",
              "        text-align: right;\n",
              "    }\n",
              "</style>\n",
              "<table border=\"1\" class=\"dataframe\">\n",
              "  <thead>\n",
              "    <tr style=\"text-align: right;\">\n",
              "      <th></th>\n",
              "      <th>has_online_delivery</th>\n",
              "      <th>price_range</th>\n",
              "      <th>currency</th>\n",
              "      <th>name</th>\n",
              "      <th>cuisines</th>\n",
              "      <th>location.address</th>\n",
              "      <th>location.city</th>\n",
              "      <th>user_rating.rating_text</th>\n",
              "    </tr>\n",
              "  </thead>\n",
              "  <tbody>\n",
              "    <tr>\n",
              "      <th>0</th>\n",
              "      <td>1</td>\n",
              "      <td>3</td>\n",
              "      <td>Rs.</td>\n",
              "      <td>Hauz Khas Social</td>\n",
              "      <td>Continental, American, Asian, North Indian</td>\n",
              "      <td>9-A &amp; 12, Hauz Khas Village, New Delhi</td>\n",
              "      <td>New Delhi</td>\n",
              "      <td>Very Good</td>\n",
              "    </tr>\n",
              "    <tr>\n",
              "      <th>1</th>\n",
              "      <td>0</td>\n",
              "      <td>3</td>\n",
              "      <td>Rs.</td>\n",
              "      <td>Qubitos - The Terrace Cafe</td>\n",
              "      <td>Thai, European, Mexican, North Indian, Chinese...</td>\n",
              "      <td>C-7, Vishal Enclave, Opposite Metro Pillar 417...</td>\n",
              "      <td>New Delhi</td>\n",
              "      <td>Excellent</td>\n",
              "    </tr>\n",
              "    <tr>\n",
              "      <th>2</th>\n",
              "      <td>1</td>\n",
              "      <td>2</td>\n",
              "      <td>Rs.</td>\n",
              "      <td>The Hudson Cafe</td>\n",
              "      <td>Cafe, Italian, Continental, Chinese</td>\n",
              "      <td>2524, 1st Floor, Hudson Lane, Delhi University...</td>\n",
              "      <td>New Delhi</td>\n",
              "      <td>Very Good</td>\n",
              "    </tr>\n",
              "    <tr>\n",
              "      <th>3</th>\n",
              "      <td>0</td>\n",
              "      <td>3</td>\n",
              "      <td>Rs.</td>\n",
              "      <td>Summer House Cafe</td>\n",
              "      <td>Italian, Continental</td>\n",
              "      <td>1st Floor, DDA Shopping Complex, Aurobindo Pla...</td>\n",
              "      <td>New Delhi</td>\n",
              "      <td>Very Good</td>\n",
              "    </tr>\n",
              "    <tr>\n",
              "      <th>4</th>\n",
              "      <td>0</td>\n",
              "      <td>3</td>\n",
              "      <td>Rs.</td>\n",
              "      <td>38 Barracks</td>\n",
              "      <td>North Indian, Italian, Asian, American</td>\n",
              "      <td>M-38, Outer Circle, Connaught Place, New Delhi</td>\n",
              "      <td>New Delhi</td>\n",
              "      <td>Very Good</td>\n",
              "    </tr>\n",
              "    <tr>\n",
              "      <th>...</th>\n",
              "      <td>...</td>\n",
              "      <td>...</td>\n",
              "      <td>...</td>\n",
              "      <td>...</td>\n",
              "      <td>...</td>\n",
              "      <td>...</td>\n",
              "      <td>...</td>\n",
              "      <td>...</td>\n",
              "    </tr>\n",
              "    <tr>\n",
              "      <th>1175</th>\n",
              "      <td>0</td>\n",
              "      <td>3</td>\n",
              "      <td>£</td>\n",
              "      <td>The Boozy Cow</td>\n",
              "      <td>Burger, Grill</td>\n",
              "      <td>17 Frederick Street, New Town, Edinburgh EH2 2EY</td>\n",
              "      <td>Edinburgh</td>\n",
              "      <td>Very Good</td>\n",
              "    </tr>\n",
              "    <tr>\n",
              "      <th>1176</th>\n",
              "      <td>0</td>\n",
              "      <td>3</td>\n",
              "      <td>£</td>\n",
              "      <td>La Favorita</td>\n",
              "      <td>Italian</td>\n",
              "      <td>325-331 Leith Walk, Leith, Edinburgh EH6 8SA</td>\n",
              "      <td>Edinburgh</td>\n",
              "      <td>Excellent</td>\n",
              "    </tr>\n",
              "    <tr>\n",
              "      <th>1177</th>\n",
              "      <td>0</td>\n",
              "      <td>3</td>\n",
              "      <td>£</td>\n",
              "      <td>Roseleaf Bar Cafe</td>\n",
              "      <td>Scottish, Cafe</td>\n",
              "      <td>23-24 Sandport Place, Leith, Edinburgh EH6 6EW</td>\n",
              "      <td>Edinburgh</td>\n",
              "      <td>Excellent</td>\n",
              "    </tr>\n",
              "    <tr>\n",
              "      <th>1178</th>\n",
              "      <td>0</td>\n",
              "      <td>3</td>\n",
              "      <td>£</td>\n",
              "      <td>Civerinos</td>\n",
              "      <td>Pizza, Italian</td>\n",
              "      <td>5 Hunter Square, Royal Mile, Old Town, Edinbur...</td>\n",
              "      <td>Edinburgh</td>\n",
              "      <td>Good</td>\n",
              "    </tr>\n",
              "    <tr>\n",
              "      <th>1179</th>\n",
              "      <td>0</td>\n",
              "      <td>3</td>\n",
              "      <td>£</td>\n",
              "      <td>The Hanging Bat</td>\n",
              "      <td>American</td>\n",
              "      <td>133 Lothian Road, Old Town, Edinburgh EH3 9AD</td>\n",
              "      <td>Edinburgh</td>\n",
              "      <td>Good</td>\n",
              "    </tr>\n",
              "  </tbody>\n",
              "</table>\n",
              "<p>1180 rows × 8 columns</p>\n",
              "</div>\n",
              "      <button class=\"colab-df-convert\" onclick=\"convertToInteractive('df-cbd583b9-3db4-4c96-ae52-54eee1dbe544')\"\n",
              "              title=\"Convert this dataframe to an interactive table.\"\n",
              "              style=\"display:none;\">\n",
              "\n",
              "  <svg xmlns=\"http://www.w3.org/2000/svg\" height=\"24px\"viewBox=\"0 0 24 24\"\n",
              "       width=\"24px\">\n",
              "    <path d=\"M0 0h24v24H0V0z\" fill=\"none\"/>\n",
              "    <path d=\"M18.56 5.44l.94 2.06.94-2.06 2.06-.94-2.06-.94-.94-2.06-.94 2.06-2.06.94zm-11 1L8.5 8.5l.94-2.06 2.06-.94-2.06-.94L8.5 2.5l-.94 2.06-2.06.94zm10 10l.94 2.06.94-2.06 2.06-.94-2.06-.94-.94-2.06-.94 2.06-2.06.94z\"/><path d=\"M17.41 7.96l-1.37-1.37c-.4-.4-.92-.59-1.43-.59-.52 0-1.04.2-1.43.59L10.3 9.45l-7.72 7.72c-.78.78-.78 2.05 0 2.83L4 21.41c.39.39.9.59 1.41.59.51 0 1.02-.2 1.41-.59l7.78-7.78 2.81-2.81c.8-.78.8-2.07 0-2.86zM5.41 20L4 18.59l7.72-7.72 1.47 1.35L5.41 20z\"/>\n",
              "  </svg>\n",
              "      </button>\n",
              "\n",
              "\n",
              "\n",
              "    <div id=\"df-1490c683-2db7-43fb-b8e0-57acc17b1470\">\n",
              "      <button class=\"colab-df-quickchart\" onclick=\"quickchart('df-1490c683-2db7-43fb-b8e0-57acc17b1470')\"\n",
              "              title=\"Suggest charts.\"\n",
              "              style=\"display:none;\">\n",
              "\n",
              "<svg xmlns=\"http://www.w3.org/2000/svg\" height=\"24px\"viewBox=\"0 0 24 24\"\n",
              "     width=\"24px\">\n",
              "    <g>\n",
              "        <path d=\"M19 3H5c-1.1 0-2 .9-2 2v14c0 1.1.9 2 2 2h14c1.1 0 2-.9 2-2V5c0-1.1-.9-2-2-2zM9 17H7v-7h2v7zm4 0h-2V7h2v10zm4 0h-2v-4h2v4z\"/>\n",
              "    </g>\n",
              "</svg>\n",
              "      </button>\n",
              "    </div>\n",
              "\n",
              "<style>\n",
              "  .colab-df-quickchart {\n",
              "    background-color: #E8F0FE;\n",
              "    border: none;\n",
              "    border-radius: 50%;\n",
              "    cursor: pointer;\n",
              "    display: none;\n",
              "    fill: #1967D2;\n",
              "    height: 32px;\n",
              "    padding: 0 0 0 0;\n",
              "    width: 32px;\n",
              "  }\n",
              "\n",
              "  .colab-df-quickchart:hover {\n",
              "    background-color: #E2EBFA;\n",
              "    box-shadow: 0px 1px 2px rgba(60, 64, 67, 0.3), 0px 1px 3px 1px rgba(60, 64, 67, 0.15);\n",
              "    fill: #174EA6;\n",
              "  }\n",
              "\n",
              "  [theme=dark] .colab-df-quickchart {\n",
              "    background-color: #3B4455;\n",
              "    fill: #D2E3FC;\n",
              "  }\n",
              "\n",
              "  [theme=dark] .colab-df-quickchart:hover {\n",
              "    background-color: #434B5C;\n",
              "    box-shadow: 0px 1px 3px 1px rgba(0, 0, 0, 0.15);\n",
              "    filter: drop-shadow(0px 1px 2px rgba(0, 0, 0, 0.3));\n",
              "    fill: #FFFFFF;\n",
              "  }\n",
              "</style>\n",
              "\n",
              "    <script>\n",
              "      async function quickchart(key) {\n",
              "        const containerElement = document.querySelector('#' + key);\n",
              "        const charts = await google.colab.kernel.invokeFunction(\n",
              "            'suggestCharts', [key], {});\n",
              "      }\n",
              "    </script>\n",
              "\n",
              "      <script>\n",
              "\n",
              "function displayQuickchartButton(domScope) {\n",
              "  let quickchartButtonEl =\n",
              "    domScope.querySelector('#df-1490c683-2db7-43fb-b8e0-57acc17b1470 button.colab-df-quickchart');\n",
              "  quickchartButtonEl.style.display =\n",
              "    google.colab.kernel.accessAllowed ? 'block' : 'none';\n",
              "}\n",
              "\n",
              "        displayQuickchartButton(document);\n",
              "      </script>\n",
              "      <style>\n",
              "    .colab-df-container {\n",
              "      display:flex;\n",
              "      flex-wrap:wrap;\n",
              "      gap: 12px;\n",
              "    }\n",
              "\n",
              "    .colab-df-convert {\n",
              "      background-color: #E8F0FE;\n",
              "      border: none;\n",
              "      border-radius: 50%;\n",
              "      cursor: pointer;\n",
              "      display: none;\n",
              "      fill: #1967D2;\n",
              "      height: 32px;\n",
              "      padding: 0 0 0 0;\n",
              "      width: 32px;\n",
              "    }\n",
              "\n",
              "    .colab-df-convert:hover {\n",
              "      background-color: #E2EBFA;\n",
              "      box-shadow: 0px 1px 2px rgba(60, 64, 67, 0.3), 0px 1px 3px 1px rgba(60, 64, 67, 0.15);\n",
              "      fill: #174EA6;\n",
              "    }\n",
              "\n",
              "    [theme=dark] .colab-df-convert {\n",
              "      background-color: #3B4455;\n",
              "      fill: #D2E3FC;\n",
              "    }\n",
              "\n",
              "    [theme=dark] .colab-df-convert:hover {\n",
              "      background-color: #434B5C;\n",
              "      box-shadow: 0px 1px 3px 1px rgba(0, 0, 0, 0.15);\n",
              "      filter: drop-shadow(0px 1px 2px rgba(0, 0, 0, 0.3));\n",
              "      fill: #FFFFFF;\n",
              "    }\n",
              "  </style>\n",
              "\n",
              "      <script>\n",
              "        const buttonEl =\n",
              "          document.querySelector('#df-cbd583b9-3db4-4c96-ae52-54eee1dbe544 button.colab-df-convert');\n",
              "        buttonEl.style.display =\n",
              "          google.colab.kernel.accessAllowed ? 'block' : 'none';\n",
              "\n",
              "        async function convertToInteractive(key) {\n",
              "          const element = document.querySelector('#df-cbd583b9-3db4-4c96-ae52-54eee1dbe544');\n",
              "          const dataTable =\n",
              "            await google.colab.kernel.invokeFunction('convertToInteractive',\n",
              "                                                     [key], {});\n",
              "          if (!dataTable) return;\n",
              "\n",
              "          const docLinkHtml = 'Like what you see? Visit the ' +\n",
              "            '<a target=\"_blank\" href=https://colab.research.google.com/notebooks/data_table.ipynb>data table notebook</a>'\n",
              "            + ' to learn more about interactive tables.';\n",
              "          element.innerHTML = '';\n",
              "          dataTable['output_type'] = 'display_data';\n",
              "          await google.colab.output.renderOutput(dataTable, element);\n",
              "          const docLink = document.createElement('div');\n",
              "          docLink.innerHTML = docLinkHtml;\n",
              "          element.appendChild(docLink);\n",
              "        }\n",
              "      </script>\n",
              "    </div>\n",
              "  </div>\n"
            ]
          },
          "metadata": {},
          "execution_count": 17
        }
      ],
      "source": [
        "df"
      ]
    },
    {
      "cell_type": "markdown",
      "metadata": {
        "id": "1GeGYfLg_rJJ"
      },
      "source": [
        "¡Listo! Ahora vamos a ver qué podemos hacer con este `DataFrame`."
      ]
    }
  ],
  "metadata": {
    "kernelspec": {
      "display_name": "Python (data_science)",
      "language": "python",
      "name": "data_science"
    },
    "language_info": {
      "codemirror_mode": {
        "name": "ipython",
        "version": 3
      },
      "file_extension": ".py",
      "mimetype": "text/x-python",
      "name": "python",
      "nbconvert_exporter": "python",
      "pygments_lexer": "ipython3",
      "version": "3.8.5"
    },
    "colab": {
      "provenance": []
    }
  },
  "nbformat": 4,
  "nbformat_minor": 0
}