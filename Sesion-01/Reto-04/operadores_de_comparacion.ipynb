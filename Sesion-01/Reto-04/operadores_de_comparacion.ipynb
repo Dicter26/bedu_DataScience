{
  "cells": [
    {
      "cell_type": "markdown",
      "metadata": {
        "id": "AstHtElnX6nL"
      },
      "source": [
        "## Reto 4: Operadores de comparación\n",
        "\n",
        "### 1. Objetivos:\n",
        "    - Practicar la comparación de números, strings y booleanos\n",
        "\n",
        "---\n",
        "    \n",
        "### 2. Desarrollo:"
      ]
    },
    {
      "cell_type": "markdown",
      "metadata": {
        "id": "ohJOR01HX6nN"
      },
      "source": [
        "A continuación tienes algunas variables que han sido asignadas:"
      ]
    },
    {
      "cell_type": "code",
      "execution_count": 1,
      "metadata": {
        "id": "ebt7wHX4X6nO"
      },
      "outputs": [],
      "source": [
        "var_1 = 3\n",
        "var_2 = 5\n",
        "var_3 = 9\n",
        "var_4 = 1\n",
        "var_5 = 9\n",
        "var_6 = -6\n",
        "var_7 = 5\n",
        "var_8 = 4"
      ]
    },
    {
      "cell_type": "markdown",
      "metadata": {
        "id": "XQ_ciIpjX6nP"
      },
      "source": [
        "A continuación tienes algunas comparaciones que se encuentran incompletas, junto con el resultado que se espera de dicha comparación. Agrega los `operadores de comparación` adecuados, en medio de las variables, para que al correr las celdas se obtengan los `Resultados esperados`. Para este reto, los operadores `==` y `!=` no están permitidos."
      ]
    },
    {
      "cell_type": "code",
      "execution_count": 2,
      "metadata": {
        "id": "K5NnUVY3X6nP",
        "outputId": "77508f1f-73c6-40c0-eb1a-2cb94d5ecb19",
        "colab": {
          "base_uri": "https://localhost:8080/"
        }
      },
      "outputs": [
        {
          "output_type": "execute_result",
          "data": {
            "text/plain": [
              "False"
            ]
          },
          "metadata": {},
          "execution_count": 2
        }
      ],
      "source": [
        "var_1 > var_3  # Resultado esperado: False"
      ]
    },
    {
      "cell_type": "code",
      "execution_count": 3,
      "metadata": {
        "id": "gnDJeLWAX6nQ",
        "outputId": "43afba33-af9c-43fb-a985-018ca231d88a",
        "colab": {
          "base_uri": "https://localhost:8080/"
        }
      },
      "outputs": [
        {
          "output_type": "execute_result",
          "data": {
            "text/plain": [
              "True"
            ]
          },
          "metadata": {},
          "execution_count": 3
        }
      ],
      "source": [
        "var_1 > var_4 # Resultado esperado: True"
      ]
    },
    {
      "cell_type": "code",
      "execution_count": 10,
      "metadata": {
        "id": "d-slcLTEX6nQ",
        "outputId": "c8088a9c-12e5-4344-c3c1-729d067fb6bb",
        "colab": {
          "base_uri": "https://localhost:8080/"
        }
      },
      "outputs": [
        {
          "output_type": "execute_result",
          "data": {
            "text/plain": [
              "True"
            ]
          },
          "metadata": {},
          "execution_count": 10
        }
      ],
      "source": [
        "var_2 >= var_7  # Resultado esperado: True"
      ]
    },
    {
      "cell_type": "code",
      "execution_count": 5,
      "metadata": {
        "id": "y0QZIeqiX6nQ",
        "outputId": "0111f035-e869-4416-f85c-8e08151b2f34",
        "colab": {
          "base_uri": "https://localhost:8080/"
        }
      },
      "outputs": [
        {
          "output_type": "execute_result",
          "data": {
            "text/plain": [
              "True"
            ]
          },
          "metadata": {},
          "execution_count": 5
        }
      ],
      "source": [
        "var_8 > var_6  # Resultado esperado: True"
      ]
    },
    {
      "cell_type": "code",
      "execution_count": 6,
      "metadata": {
        "id": "-0Omj8xYX6nQ",
        "outputId": "0a84fd0d-c98e-4e8e-91b8-1f020acea2a4",
        "colab": {
          "base_uri": "https://localhost:8080/"
        }
      },
      "outputs": [
        {
          "output_type": "execute_result",
          "data": {
            "text/plain": [
              "False"
            ]
          },
          "metadata": {},
          "execution_count": 6
        }
      ],
      "source": [
        "var_3 != var_5  # Resultado esperado: False"
      ]
    },
    {
      "cell_type": "code",
      "execution_count": 7,
      "metadata": {
        "id": "B0QH4Z-AX6nR",
        "outputId": "4444c193-ce04-4238-85d1-2c628d1ea405",
        "colab": {
          "base_uri": "https://localhost:8080/"
        }
      },
      "outputs": [
        {
          "output_type": "execute_result",
          "data": {
            "text/plain": [
              "True"
            ]
          },
          "metadata": {},
          "execution_count": 7
        }
      ],
      "source": [
        "var_1 < var_3  # Resultado esperado: True"
      ]
    },
    {
      "cell_type": "code",
      "execution_count": 8,
      "metadata": {
        "id": "jBrs9HchX6nR",
        "outputId": "baee2b3d-0a2f-48b2-c12a-ff0a311cc7c6",
        "colab": {
          "base_uri": "https://localhost:8080/"
        }
      },
      "outputs": [
        {
          "output_type": "execute_result",
          "data": {
            "text/plain": [
              "False"
            ]
          },
          "metadata": {},
          "execution_count": 8
        }
      ],
      "source": [
        "var_5 == var_4  # Resultado esperado: False"
      ]
    },
    {
      "cell_type": "code",
      "execution_count": 11,
      "metadata": {
        "id": "Hr6CiJowX6nR",
        "outputId": "eaf468d1-da03-47d5-df4f-394cd113bcce",
        "colab": {
          "base_uri": "https://localhost:8080/"
        }
      },
      "outputs": [
        {
          "output_type": "execute_result",
          "data": {
            "text/plain": [
              "True"
            ]
          },
          "metadata": {},
          "execution_count": 11
        }
      ],
      "source": [
        "var_3 <= var_5  # Resultado esperado: True"
      ]
    },
    {
      "cell_type": "markdown",
      "metadata": {
        "id": "eghrwrpJX6nS"
      },
      "source": [
        "<details><summary>Solución</summary>\n",
        "\n",
        "```python\n",
        "var_1 > var_3\n",
        "var_1 > var_4\n",
        "var_2 >= var_7\n",
        "var_8 > var_6\n",
        "var_3 > var_5\n",
        "var_1 < var_3\n",
        "var_5 < var_4\n",
        "var_3 <= var_5\n",
        "```\n",
        "    \n",
        "</details>"
      ]
    },
    {
      "cell_type": "code",
      "execution_count": null,
      "metadata": {
        "id": "lvV6MNImX6nS"
      },
      "outputs": [],
      "source": []
    }
  ],
  "metadata": {
    "kernelspec": {
      "display_name": "Python (data_science)",
      "language": "python",
      "name": "data_science"
    },
    "language_info": {
      "codemirror_mode": {
        "name": "ipython",
        "version": 3
      },
      "file_extension": ".py",
      "mimetype": "text/x-python",
      "name": "python",
      "nbconvert_exporter": "python",
      "pygments_lexer": "ipython3",
      "version": "3.8.5"
    },
    "colab": {
      "provenance": []
    }
  },
  "nbformat": 4,
  "nbformat_minor": 0
}