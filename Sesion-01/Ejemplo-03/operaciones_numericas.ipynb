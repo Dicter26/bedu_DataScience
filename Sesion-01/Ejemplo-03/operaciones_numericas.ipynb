{
  "cells": [
    {
      "cell_type": "markdown",
      "metadata": {
        "id": "ljUTeB4q_1M1"
      },
      "source": [
        "## Ejemplo 3: Operaciones numéricas\n",
        "\n",
        "### 1. Objetivos:\n",
        "\n",
        "- Mostrar cómo usar los operadores aritméticos\n",
        "- Practicar asignación de variables y output de celdas\n",
        "\n",
        "---\n",
        "\n",
        "### 2. Desarrollo:"
      ]
    },
    {
      "cell_type": "markdown",
      "metadata": {
        "id": "oIkrz-Pk_1M4"
      },
      "source": [
        "Primero asignemos unas variables:"
      ]
    },
    {
      "cell_type": "code",
      "execution_count": null,
      "metadata": {
        "id": "gtqwfgTt_1M4"
      },
      "outputs": [],
      "source": [
        "var_1 = 4\n",
        "var_2 = 54\n",
        "var_3 = 23\n",
        "var_4 = 89"
      ]
    },
    {
      "cell_type": "markdown",
      "metadata": {
        "id": "bFD_Chan_1M5"
      },
      "source": [
        "Para realizar operaciones numéricas con estas variables, basta con escribir la operación en una celda y correrla. Veremos el resultado como output debajo de la celda:"
      ]
    },
    {
      "cell_type": "code",
      "execution_count": null,
      "metadata": {
        "id": "jAQX_4tE_1M6",
        "outputId": "4e03a6b6-6ee4-49c3-e7fb-90b86334af46"
      },
      "outputs": [
        {
          "data": {
            "text/plain": [
              "58"
            ]
          },
          "execution_count": 5,
          "metadata": {},
          "output_type": "execute_result"
        }
      ],
      "source": [
        "var_1 + var_2"
      ]
    },
    {
      "cell_type": "code",
      "execution_count": null,
      "metadata": {
        "id": "ETb4u-5W_1M7",
        "outputId": "e7358afa-8d5a-4103-ba12-149afab97f9d"
      },
      "outputs": [
        {
          "data": {
            "text/plain": [
              "-35"
            ]
          },
          "execution_count": 6,
          "metadata": {},
          "output_type": "execute_result"
        }
      ],
      "source": [
        "var_2 - var_4"
      ]
    },
    {
      "cell_type": "code",
      "execution_count": null,
      "metadata": {
        "id": "JukC-v0__1M7",
        "outputId": "281aba5c-c227-4935-dbea-a524134faafd"
      },
      "outputs": [
        {
          "data": {
            "text/plain": [
              "92"
            ]
          },
          "execution_count": 7,
          "metadata": {},
          "output_type": "execute_result"
        }
      ],
      "source": [
        "var_3 * var_1"
      ]
    },
    {
      "cell_type": "code",
      "execution_count": null,
      "metadata": {
        "id": "GbzWDhdg_1M7",
        "outputId": "fca0893a-5b56-4fb3-dbe1-fd1d57608585"
      },
      "outputs": [
        {
          "data": {
            "text/plain": [
              "1.6481481481481481"
            ]
          },
          "execution_count": 8,
          "metadata": {},
          "output_type": "execute_result"
        }
      ],
      "source": [
        "var_4 / var_2"
      ]
    },
    {
      "cell_type": "code",
      "execution_count": null,
      "metadata": {
        "id": "JzkbllPQ_1M8",
        "outputId": "234dad4a-97bf-4740-8d92-4985d18b1b3e"
      },
      "outputs": [
        {
          "data": {
            "text/plain": [
              "8503056"
            ]
          },
          "execution_count": 9,
          "metadata": {},
          "output_type": "execute_result"
        }
      ],
      "source": [
        "var_2 ** var_1"
      ]
    },
    {
      "cell_type": "markdown",
      "metadata": {
        "id": "7nHX5Iec_1M8"
      },
      "source": [
        "Si queremos imprimir más de una operación en la misma celda, podemos usar la función `print`:"
      ]
    },
    {
      "cell_type": "code",
      "execution_count": null,
      "metadata": {
        "id": "uRn5hAgB_1M8",
        "outputId": "229efb5a-e09a-44a1-cffc-d451d5e0f5d4"
      },
      "outputs": [
        {
          "name": "stdout",
          "output_type": "stream",
          "text": [
            "58\n",
            "-66\n",
            "2916\n"
          ]
        }
      ],
      "source": [
        "print(var_1 + var_2)\n",
        "print(var_3 - var_4)\n",
        "print(var_2 * var_2)"
      ]
    },
    {
      "cell_type": "markdown",
      "metadata": {
        "id": "x8lQNzRl_1M9"
      },
      "source": [
        "También podemos asignar los resultados de nuestras operaciones a otras variables:"
      ]
    },
    {
      "cell_type": "code",
      "execution_count": null,
      "metadata": {
        "id": "HvsuzAlD_1M9",
        "outputId": "5994b481-4c60-44c5-92ef-0ebcd77b1627"
      },
      "outputs": [
        {
          "data": {
            "text/plain": [
              "27"
            ]
          },
          "execution_count": 11,
          "metadata": {},
          "output_type": "execute_result"
        }
      ],
      "source": [
        "resultado_suma = var_1 + var_3\n",
        "\n",
        "resultado_suma"
      ]
    },
    {
      "cell_type": "code",
      "execution_count": null,
      "metadata": {
        "id": "B5Cod_mc_1M9",
        "outputId": "af4de67c-2fe6-47cf-fdda-db7655d19868"
      },
      "outputs": [
        {
          "data": {
            "text/plain": [
              "35"
            ]
          },
          "execution_count": 13,
          "metadata": {},
          "output_type": "execute_result"
        }
      ],
      "source": [
        "resultado_resta = var_4 - var_2\n",
        "\n",
        "resultado_resta"
      ]
    },
    {
      "cell_type": "markdown",
      "metadata": {
        "id": "Kvi__dUp_1M-"
      },
      "source": [
        "¡Hora de practicar!"
      ]
    },
    {
      "cell_type": "code",
      "execution_count": null,
      "metadata": {
        "id": "vVvZOfBW_1M-"
      },
      "outputs": [],
      "source": []
    }
  ],
  "metadata": {
    "kernelspec": {
      "display_name": "Python (data_science)",
      "language": "python",
      "name": "data_science"
    },
    "language_info": {
      "codemirror_mode": {
        "name": "ipython",
        "version": 3
      },
      "file_extension": ".py",
      "mimetype": "text/x-python",
      "name": "python",
      "nbconvert_exporter": "python",
      "pygments_lexer": "ipython3",
      "version": "3.8.5"
    },
    "colab": {
      "provenance": []
    }
  },
  "nbformat": 4,
  "nbformat_minor": 0
}