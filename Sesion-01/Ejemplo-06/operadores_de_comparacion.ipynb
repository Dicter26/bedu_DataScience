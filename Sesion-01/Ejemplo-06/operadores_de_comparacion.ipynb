{
  "cells": [
    {
      "cell_type": "markdown",
      "metadata": {
        "id": "osUpQhjnFOSb"
      },
      "source": [
        "## Ejemplo 6: Operadores de comparación\n",
        "\n",
        "### 1. Objetivos:\n",
        "    - Conocer el funcionamiento de los operadores de comparación usando ints, floats y strings\n",
        "\n",
        "---\n",
        "    \n",
        "### 2. Desarrollo:"
      ]
    },
    {
      "cell_type": "markdown",
      "metadata": {
        "id": "pqLcCr5VFOSe"
      },
      "source": [
        "Comencemos asignando algunas variables que después usaremos para realizar comparaciones:"
      ]
    },
    {
      "cell_type": "code",
      "execution_count": null,
      "metadata": {
        "id": "lxmLdpYWFOSe"
      },
      "outputs": [],
      "source": [
        "var_1 = 34\n",
        "var_2 = 12\n",
        "var_3 = 23.24\n",
        "var_4 = 23.56\n",
        "var_5 = \"OK\"\n",
        "var_6 = \"ERROR\"\n",
        "var_7 = True\n",
        "var_8 = False"
      ]
    },
    {
      "cell_type": "markdown",
      "metadata": {
        "id": "lCkrPexUFOSg"
      },
      "source": [
        "Ahora veamos algunas comparaciones para ver cómo es que funcionan nuestros operadores."
      ]
    },
    {
      "cell_type": "code",
      "execution_count": null,
      "metadata": {
        "id": "EhYLgGYxFOSg",
        "outputId": "5aaf1345-24a8-482c-8a64-40429cdafec5"
      },
      "outputs": [
        {
          "data": {
            "text/plain": [
              "True"
            ]
          },
          "execution_count": 3,
          "metadata": {},
          "output_type": "execute_result"
        }
      ],
      "source": [
        "var_1 > var_2"
      ]
    },
    {
      "cell_type": "code",
      "execution_count": null,
      "metadata": {
        "id": "rZ961hrLFOSh",
        "outputId": "53b0ddcb-2742-4dbb-b82d-f79849ec8d5f"
      },
      "outputs": [
        {
          "data": {
            "text/plain": [
              "False"
            ]
          },
          "execution_count": 4,
          "metadata": {},
          "output_type": "execute_result"
        }
      ],
      "source": [
        "var_1 < var_2"
      ]
    },
    {
      "cell_type": "code",
      "execution_count": null,
      "metadata": {
        "id": "YAXbIJitFOSh",
        "outputId": "017089aa-f6b5-4cb4-d75e-bf8a41a52c61"
      },
      "outputs": [
        {
          "data": {
            "text/plain": [
              "True"
            ]
          },
          "execution_count": 5,
          "metadata": {},
          "output_type": "execute_result"
        }
      ],
      "source": [
        "var_3 < var_4"
      ]
    },
    {
      "cell_type": "code",
      "execution_count": null,
      "metadata": {
        "id": "qattytIUFOSi",
        "outputId": "f0b1da3a-c151-413b-94a3-1aa773a1456c"
      },
      "outputs": [
        {
          "data": {
            "text/plain": [
              "True"
            ]
          },
          "execution_count": 6,
          "metadata": {},
          "output_type": "execute_result"
        }
      ],
      "source": [
        "var_3 <= var_3"
      ]
    },
    {
      "cell_type": "code",
      "execution_count": null,
      "metadata": {
        "id": "x9xS1tHIFOSi",
        "outputId": "57d1450d-603b-4ed3-8c3d-cb8cca675401"
      },
      "outputs": [
        {
          "data": {
            "text/plain": [
              "True"
            ]
          },
          "execution_count": 7,
          "metadata": {},
          "output_type": "execute_result"
        }
      ],
      "source": [
        "var_1 >= var_4"
      ]
    },
    {
      "cell_type": "code",
      "execution_count": null,
      "metadata": {
        "id": "EUwSWAtMFOSj",
        "outputId": "28f8cdf8-c45c-47e6-c104-801b05c1edac"
      },
      "outputs": [
        {
          "data": {
            "text/plain": [
              "False"
            ]
          },
          "execution_count": 8,
          "metadata": {},
          "output_type": "execute_result"
        }
      ],
      "source": [
        "var_5 == var_6"
      ]
    },
    {
      "cell_type": "code",
      "execution_count": null,
      "metadata": {
        "id": "dLTwQ4PwFOSj",
        "outputId": "6586277c-e061-4661-fc8c-f8133824ee16"
      },
      "outputs": [
        {
          "data": {
            "text/plain": [
              "True"
            ]
          },
          "execution_count": 9,
          "metadata": {},
          "output_type": "execute_result"
        }
      ],
      "source": [
        "var_5 != var_6"
      ]
    },
    {
      "cell_type": "code",
      "execution_count": null,
      "metadata": {
        "id": "KwMVyzdTFOSj",
        "outputId": "a9374147-4540-402a-88c7-1ba92b89635f"
      },
      "outputs": [
        {
          "data": {
            "text/plain": [
              "False"
            ]
          },
          "execution_count": 10,
          "metadata": {},
          "output_type": "execute_result"
        }
      ],
      "source": [
        "var_7 == var_8"
      ]
    },
    {
      "cell_type": "code",
      "execution_count": null,
      "metadata": {
        "id": "2kbgsUMeFOSk",
        "outputId": "2fb811a4-1370-4a99-b364-7ab03013d03f"
      },
      "outputs": [
        {
          "data": {
            "text/plain": [
              "True"
            ]
          },
          "execution_count": 11,
          "metadata": {},
          "output_type": "execute_result"
        }
      ],
      "source": [
        "var_7 == var_7"
      ]
    },
    {
      "cell_type": "markdown",
      "metadata": {
        "id": "8hAJRb4tFOSk"
      },
      "source": [
        "¡Interesante! Vamos al siguiente reto para practicar estos conocimientos."
      ]
    },
    {
      "cell_type": "code",
      "execution_count": null,
      "metadata": {
        "id": "YHkF_aeFFOSk"
      },
      "outputs": [],
      "source": []
    }
  ],
  "metadata": {
    "kernelspec": {
      "display_name": "Python (data_science)",
      "language": "python",
      "name": "data_science"
    },
    "language_info": {
      "codemirror_mode": {
        "name": "ipython",
        "version": 3
      },
      "file_extension": ".py",
      "mimetype": "text/x-python",
      "name": "python",
      "nbconvert_exporter": "python",
      "pygments_lexer": "ipython3",
      "version": "3.8.5"
    },
    "colab": {
      "provenance": []
    }
  },
  "nbformat": 4,
  "nbformat_minor": 0
}