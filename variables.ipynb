{
  "cells": [
    {
      "cell_type": "markdown",
      "metadata": {
        "id": "view-in-github",
        "colab_type": "text"
      },
      "source": [
        "<a href=\"https://colab.research.google.com/github/Dicter26/bedupython/blob/Dicter/variables.ipynb\" target=\"_parent\"><img src=\"https://colab.research.google.com/assets/colab-badge.svg\" alt=\"Open In Colab\"/></a>"
      ]
    },
    {
      "cell_type": "markdown",
      "metadata": {
        "id": "IbWGX_GCGje_"
      },
      "source": [
        "## Reto 1: Variables\n",
        "\n",
        "### 1. Objetivos:\n",
        "    - Practicar convención de nombramiento y asignación de variables\n",
        "\n",
        "---\n",
        "    \n",
        "### 2. Desarrollo:"
      ]
    },
    {
      "cell_type": "markdown",
      "metadata": {
        "id": "HiGzV5eJGjfB"
      },
      "source": [
        "Indica cuáles nombres de variables son válidos y cuáles con inválidos. Puedes hacerlo colocando un comentario al lado de cada asignación (`# esto es un comentario`). Los comentarios son texto que Python ignora a la hora de correr una celda. Nos sirven para hacer anotaciones."
      ]
    },
    {
      "cell_type": "code",
      "execution_count": null,
      "metadata": {
        "id": "ZKCpGXtuGjfC"
      },
      "outputs": [],
      "source": [
        "var_1 = 5 #valida\n",
        "\n",
        "variable_nueva_2 = 10 #valida\n",
        "\n",
        "Variable_nueva_3 = 11 #invalida\n",
        "\n",
        "var_3_1 = 14 #valida\n",
        "\n",
        "varNueva4 = 44 #valida\n",
        "\n",
        "var_nuevaNumero = 98 #valida\n",
        "\n",
        "var_num = 22 #valida\n",
        "\n",
        "VarNum = 11 #invalida\n",
        "\n",
        "soyUnaVariable = 14 #valida"
      ]
    },
    {
      "cell_type": "markdown",
      "metadata": {
        "id": "SE8bQu3tGjfD"
      },
      "source": [
        "<details><summary>Solución</summary>\n",
        "\n",
        "```python\n",
        "var_1 = 5  # Válida\n",
        "\n",
        "variable_nueva_2 = 10  # Válida\n",
        "\n",
        "Variable_nueva_3 = 11  # Inválida\n",
        "\n",
        "var_3_1 = 14  # Válida\n",
        "\n",
        "varNueva4 = 44  # Inválida\n",
        "\n",
        "var_nuevaNumero = 98  # Inválida\n",
        "\n",
        "var_num = 22  # Válida\n",
        "\n",
        "VarNum = 11  # Inválida\n",
        "\n",
        "soyUnaVariable = 14  # Inválida\n",
        "```\n",
        "\n",
        "</details>"
      ]
    },
    {
      "cell_type": "markdown",
      "metadata": {
        "id": "YRY31NZSGjfD"
      },
      "source": [
        "Ahora practica realizar algunas asignaciones en la celda de abajo. ¡Puedes asignarle a tus variables números enteros y también decimales!"
      ]
    },
    {
      "cell_type": "code",
      "execution_count": null,
      "metadata": {
        "id": "ffhRWO3IGjfE"
      },
      "outputs": [],
      "source": [
        "# Asigna el número 12345 a una variable llamada variable_locochona\n",
        "\n",
        "# Tu código va aquí...\n",
        "variable_locochona = 12345\n",
        "\n",
        "# Asigna el número 14.567 a una variable llamada var_decimal\n",
        "\n",
        "var_decimal = 14.567\n",
        "\n",
        "# Asigna cualquier número a una varible que tenga 5 palabras en su nombre (recuerda las convenciones)\n",
        "\n",
        "var_con_cinco_letras_xd = 1\n",
        "\n",
        "# Asigna cualquier número a una variable que incluya palabras y números en su nombre\n",
        "\n",
        "var_1 = 10\n",
        "\n",
        "# Asigna variables a discreción\n",
        "\n",
        "# ..."
      ]
    },
    {
      "cell_type": "markdown",
      "metadata": {
        "id": "1NubSlbrGjfE"
      },
      "source": [
        "<details><summary>Solución</summary>\n",
        "\n",
        "```python\n",
        "variable_locochona = 12345\n",
        "\n",
        "var_decimal = 14.567\n",
        "\n",
        "var_hecha_de_cinco_palabras = 5234\n",
        "\n",
        "variable_con_numeros_3_4 = 12342\n",
        "```\n",
        "    \n",
        "</details>"
      ]
    }
  ],
  "metadata": {
    "kernelspec": {
      "display_name": "Python (data_science)",
      "language": "python",
      "name": "data_science"
    },
    "language_info": {
      "codemirror_mode": {
        "name": "ipython",
        "version": 3
      },
      "file_extension": ".py",
      "mimetype": "text/x-python",
      "name": "python",
      "nbconvert_exporter": "python",
      "pygments_lexer": "ipython3",
      "version": "3.8.5"
    },
    "colab": {
      "provenance": [],
      "include_colab_link": true
    }
  },
  "nbformat": 4,
  "nbformat_minor": 0
}