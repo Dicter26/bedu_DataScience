{
  "cells": [
    {
      "cell_type": "markdown",
      "metadata": {
        "id": "yStbs_-3DWEE"
      },
      "source": [
        "## Ejemplo 1: Funciones vectorizadas con `Series`\n",
        "\n",
        "### 1. Objetivos:\n",
        "    - Aprender cómo usar Funciones vectorizadas aplicadas a `Series` de Pandas\n",
        "\n",
        "---\n",
        "    \n",
        "### 2. Desarrollo:"
      ]
    },
    {
      "cell_type": "markdown",
      "metadata": {
        "id": "rZntVI5QDWEG"
      },
      "source": [
        "Tenemos la siguiente Serie:"
      ]
    },
    {
      "cell_type": "code",
      "execution_count": 1,
      "metadata": {
        "id": "mRBWNp1TDWEH"
      },
      "outputs": [],
      "source": [
        "import pandas as pd"
      ]
    },
    {
      "cell_type": "code",
      "execution_count": 2,
      "metadata": {
        "id": "f5mhr-JzDWEI"
      },
      "outputs": [],
      "source": [
        "serie_1 = pd.Series([1, 2, 3, 4, 5, 6, 7, 8, 9, 10])"
      ]
    },
    {
      "cell_type": "markdown",
      "metadata": {
        "id": "KpT8o0vJDWEI"
      },
      "source": [
        "Recuerdas cómo utilizamos `map` para aplicar una función elemento por elemento a un arreglo. Podemos utilizar funciones vectorizadas para hacer esto mismo con Series y DataFrames de pandas. Esto resulta sumamente eficiente pues pandas está construido para funcionar de esta manera. Primero que nada, veamos cómo es posible aplicar operaciones aritméticas a Series de pandas y son aplicadas elemento por elemento. Por ejemplo:"
      ]
    },
    {
      "cell_type": "code",
      "execution_count": 3,
      "metadata": {
        "id": "DdmzlaS3DWEJ",
        "outputId": "f2172068-562d-4427-bcd4-f84a2fdebfac",
        "colab": {
          "base_uri": "https://localhost:8080/"
        }
      },
      "outputs": [
        {
          "output_type": "execute_result",
          "data": {
            "text/plain": [
              "0    11\n",
              "1    12\n",
              "2    13\n",
              "3    14\n",
              "4    15\n",
              "5    16\n",
              "6    17\n",
              "7    18\n",
              "8    19\n",
              "9    20\n",
              "dtype: int64"
            ]
          },
          "metadata": {},
          "execution_count": 3
        }
      ],
      "source": [
        "serie_1 + 10\n",
        "#axis=0 son columnas, axis = 1 son filas"
      ]
    },
    {
      "cell_type": "code",
      "execution_count": 4,
      "metadata": {
        "id": "xCaUI_aJDWEK",
        "outputId": "d5a303ff-ba2f-4055-8a03-4cf6b258e422",
        "colab": {
          "base_uri": "https://localhost:8080/"
        }
      },
      "outputs": [
        {
          "output_type": "execute_result",
          "data": {
            "text/plain": [
              "0     10\n",
              "1     20\n",
              "2     30\n",
              "3     40\n",
              "4     50\n",
              "5     60\n",
              "6     70\n",
              "7     80\n",
              "8     90\n",
              "9    100\n",
              "dtype: int64"
            ]
          },
          "metadata": {},
          "execution_count": 4
        }
      ],
      "source": [
        "serie_1 * 10"
      ]
    },
    {
      "cell_type": "code",
      "execution_count": 5,
      "metadata": {
        "id": "473_koZcDWEK",
        "outputId": "189cddac-1a16-4a4d-bb14-f4de20f2bd47",
        "colab": {
          "base_uri": "https://localhost:8080/"
        }
      },
      "outputs": [
        {
          "output_type": "execute_result",
          "data": {
            "text/plain": [
              "0    1100\n",
              "1    1200\n",
              "2    1300\n",
              "3    1400\n",
              "4    1500\n",
              "5    1600\n",
              "6    1700\n",
              "7    1800\n",
              "8    1900\n",
              "9    2000\n",
              "dtype: int64"
            ]
          },
          "metadata": {},
          "execution_count": 5
        }
      ],
      "source": [
        "(serie_1 + 10) * 100"
      ]
    },
    {
      "cell_type": "code",
      "execution_count": 6,
      "metadata": {
        "id": "7sUovROeDWEL",
        "outputId": "67149c3d-f9e9-4cc9-bf8d-47078fb6de00",
        "colab": {
          "base_uri": "https://localhost:8080/"
        }
      },
      "outputs": [
        {
          "output_type": "execute_result",
          "data": {
            "text/plain": [
              "0    0.6\n",
              "1    1.2\n",
              "2    1.8\n",
              "3    2.4\n",
              "4    3.0\n",
              "5    3.6\n",
              "6    4.2\n",
              "7    4.8\n",
              "8    5.4\n",
              "9    6.0\n",
              "dtype: float64"
            ]
          },
          "metadata": {},
          "execution_count": 6
        }
      ],
      "source": [
        "serie_1 * 60 / 100"
      ]
    },
    {
      "cell_type": "markdown",
      "metadata": {
        "id": "GiuNpxsIDWEL"
      },
      "source": [
        "Podemos también aplicar funciones de manera vectorizada a una Serie de pandas. Esto quiere decir que, sin necesidad de utilizar `map` la función se aplica automáticamente a cada elemento. Vamos a utilizar una librería llamada `numpy` para probar algunas de estas funciones vectorizadas."
      ]
    },
    {
      "cell_type": "code",
      "execution_count": 7,
      "metadata": {
        "id": "Hq23mllrDWEM"
      },
      "outputs": [],
      "source": [
        "import numpy as np"
      ]
    },
    {
      "cell_type": "code",
      "execution_count": 8,
      "metadata": {
        "id": "oEGywk80DWEM",
        "outputId": "1bb46198-ecf4-4f08-cece-56152cb0fc44",
        "colab": {
          "base_uri": "https://localhost:8080/"
        }
      },
      "outputs": [
        {
          "output_type": "execute_result",
          "data": {
            "text/plain": [
              "0      1\n",
              "1      4\n",
              "2      9\n",
              "3     16\n",
              "4     25\n",
              "5     36\n",
              "6     49\n",
              "7     64\n",
              "8     81\n",
              "9    100\n",
              "dtype: int64"
            ]
          },
          "metadata": {},
          "execution_count": 8
        }
      ],
      "source": [
        "np.power(serie_1, 2)"
      ]
    },
    {
      "cell_type": "code",
      "execution_count": 9,
      "metadata": {
        "id": "med5Uj-vDWEM",
        "outputId": "73d255b5-f496-44ac-a332-6230d5ccfe19",
        "colab": {
          "base_uri": "https://localhost:8080/"
        }
      },
      "outputs": [
        {
          "output_type": "execute_result",
          "data": {
            "text/plain": [
              "0    1.000000\n",
              "1    1.414214\n",
              "2    1.732051\n",
              "3    2.000000\n",
              "4    2.236068\n",
              "5    2.449490\n",
              "6    2.645751\n",
              "7    2.828427\n",
              "8    3.000000\n",
              "9    3.162278\n",
              "dtype: float64"
            ]
          },
          "metadata": {},
          "execution_count": 9
        }
      ],
      "source": [
        "np.sqrt(serie_1)"
      ]
    },
    {
      "cell_type": "markdown",
      "metadata": {
        "id": "4GqmaCFSDWEN"
      },
      "source": [
        "¿Ves qué fácil resulta?"
      ]
    },
    {
      "cell_type": "code",
      "execution_count": 9,
      "metadata": {
        "id": "Z-5vFfqHDWEN"
      },
      "outputs": [],
      "source": []
    }
  ],
  "metadata": {
    "kernelspec": {
      "display_name": "Python (data_science)",
      "language": "python",
      "name": "data_science"
    },
    "language_info": {
      "codemirror_mode": {
        "name": "ipython",
        "version": 3
      },
      "file_extension": ".py",
      "mimetype": "text/x-python",
      "name": "python",
      "nbconvert_exporter": "python",
      "pygments_lexer": "ipython3",
      "version": "3.7.6"
    },
    "colab": {
      "provenance": []
    }
  },
  "nbformat": 4,
  "nbformat_minor": 0
}