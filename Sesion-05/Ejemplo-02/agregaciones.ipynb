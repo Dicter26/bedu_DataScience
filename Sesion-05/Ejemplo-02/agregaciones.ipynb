{
  "cells": [
    {
      "cell_type": "markdown",
      "metadata": {
        "id": "9s-axtIyEeah"
      },
      "source": [
        "## Ejemplo 2: Agregaciones\n",
        "\n",
        "### 1. Objetivos:\n",
        "    - Aprender cómo usar agregaciones para resumir o reducir un arreglo\n",
        "\n",
        "---\n",
        "    \n",
        "### 2. Desarrollo:"
      ]
    },
    {
      "cell_type": "markdown",
      "metadata": {
        "id": "UNP_2yhrEeaj"
      },
      "source": [
        "Las agregaciones entonces aplican una función a todo el arreglo entero y regresan un único valor que es la agregación o reducción del arreglo.\n",
        "\n",
        "`pandas` ya tiene incluidas bastantes de éstas. Así que podemos llamarlas con tan sólo usar un método de nuestra `Serie`:"
      ]
    },
    {
      "cell_type": "code",
      "execution_count": 1,
      "metadata": {
        "id": "01mFU47ZEeak"
      },
      "outputs": [],
      "source": [
        "import pandas as pd"
      ]
    },
    {
      "cell_type": "code",
      "execution_count": 2,
      "metadata": {
        "id": "dZDHOkFAEeal"
      },
      "outputs": [],
      "source": [
        "serie = pd.Series([1, 2, 3, 4, 5])"
      ]
    },
    {
      "cell_type": "markdown",
      "metadata": {
        "id": "lOpBFo1CEeal"
      },
      "source": [
        "`sum` suma todos los elementos de nuestro arreglo:"
      ]
    },
    {
      "cell_type": "code",
      "execution_count": 3,
      "metadata": {
        "id": "lEM5JzzLEeal",
        "outputId": "082fd774-d76a-438b-e3fa-21883389a53c",
        "colab": {
          "base_uri": "https://localhost:8080/"
        }
      },
      "outputs": [
        {
          "output_type": "execute_result",
          "data": {
            "text/plain": [
              "15"
            ]
          },
          "metadata": {},
          "execution_count": 3
        }
      ],
      "source": [
        "serie.sum()"
      ]
    },
    {
      "cell_type": "markdown",
      "metadata": {
        "id": "PRLerPTIEean"
      },
      "source": [
        "`min` y `max` nos dan el valor mínimo y máximo, respectivamente, de nuestro arreglo:"
      ]
    },
    {
      "cell_type": "code",
      "execution_count": 4,
      "metadata": {
        "id": "H8-_pTR4Eean",
        "outputId": "041ac632-eece-4305-93cf-9fb91fdfaf12",
        "colab": {
          "base_uri": "https://localhost:8080/"
        }
      },
      "outputs": [
        {
          "output_type": "execute_result",
          "data": {
            "text/plain": [
              "1"
            ]
          },
          "metadata": {},
          "execution_count": 4
        }
      ],
      "source": [
        "serie.min()"
      ]
    },
    {
      "cell_type": "code",
      "execution_count": 5,
      "metadata": {
        "id": "8xFouTdYEean",
        "outputId": "76e2597e-a078-4a43-8881-cbe3266b0dff",
        "colab": {
          "base_uri": "https://localhost:8080/"
        }
      },
      "outputs": [
        {
          "output_type": "execute_result",
          "data": {
            "text/plain": [
              "5"
            ]
          },
          "metadata": {},
          "execution_count": 5
        }
      ],
      "source": [
        "serie.max()"
      ]
    },
    {
      "cell_type": "markdown",
      "metadata": {
        "id": "QWs4evM-Eeao"
      },
      "source": [
        "`count` nos da el conteo total del número de elementos en nuestro arreglo:"
      ]
    },
    {
      "cell_type": "code",
      "execution_count": 6,
      "metadata": {
        "id": "7ElyNjQpEeao",
        "outputId": "bf862892-5e72-434c-8be3-318fa3d516be",
        "colab": {
          "base_uri": "https://localhost:8080/"
        }
      },
      "outputs": [
        {
          "output_type": "execute_result",
          "data": {
            "text/plain": [
              "5"
            ]
          },
          "metadata": {},
          "execution_count": 6
        }
      ],
      "source": [
        "serie.count()"
      ]
    }
  ],
  "metadata": {
    "kernelspec": {
      "display_name": "Python (data_science)",
      "language": "python",
      "name": "data_science"
    },
    "language_info": {
      "codemirror_mode": {
        "name": "ipython",
        "version": 3
      },
      "file_extension": ".py",
      "mimetype": "text/x-python",
      "name": "python",
      "nbconvert_exporter": "python",
      "pygments_lexer": "ipython3",
      "version": "3.8.1"
    },
    "colab": {
      "provenance": []
    }
  },
  "nbformat": 4,
  "nbformat_minor": 0
}