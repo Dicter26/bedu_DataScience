{
  "cells": [
    {
      "cell_type": "markdown",
      "metadata": {
        "id": "JZDp2dK8C0Ov"
      },
      "source": [
        "## Reto 1: Creando listas y accediendo a ellas\n",
        "\n",
        "### 1. Objetivos:\n",
        "    - Practicar crear listas con valores crudos y variables\n",
        "    - Practicar acceder a listas usando índices\n",
        "\n",
        "---\n",
        "    \n",
        "### 2. Desarrollo:"
      ]
    },
    {
      "cell_type": "markdown",
      "metadata": {
        "id": "BKZT81z6C0Ox"
      },
      "source": [
        "#### a) Definiendo una lista\n",
        "\n",
        "Debajo de esta celda hay un nombre de una variable que aún no ha sido asignada:"
      ]
    },
    {
      "cell_type": "code",
      "execution_count": 1,
      "metadata": {
        "id": "0U9nGvePC0Oy"
      },
      "outputs": [],
      "source": [
        "mi_informacion = [\"Dicter\", \"Dicter\", \"albondigas\",\"tacos de surtida\", \"software engineer\"]"
      ]
    },
    {
      "cell_type": "markdown",
      "metadata": {
        "id": "9gWfAYNeC0Oz"
      },
      "source": [
        "Ahora, tenemos un `print` que imprime una string formateada para mostrar cierta información acerca de ti (Las triples comillas `'''` nos sirven para generar strings de varias líneas):"
      ]
    },
    {
      "cell_type": "code",
      "execution_count": 2,
      "metadata": {
        "id": "oSiUrf1VC0Oz",
        "outputId": "4daf2434-3c4b-4ed3-d0b0-503e3ab8f8ff",
        "colab": {
          "base_uri": "https://localhost:8080/"
        }
      },
      "outputs": [
        {
          "output_type": "stream",
          "name": "stdout",
          "text": [
            "\n",
            "¡Hola! Mi nombre es Dicter. Todos me dicen Dicter.\n",
            "Mi comida favorita es albondigas. Y la comida que más detesto es tacos de surtida.\n",
            "Mi trabajo ideal sería software engineer.\n",
            "¡Gracias, chau!\n",
            "\n"
          ]
        }
      ],
      "source": [
        "print(f'''\n",
        "¡Hola! Mi nombre es {mi_informacion[0]}. Todos me dicen {mi_informacion[1]}.\n",
        "Mi comida favorita es {mi_informacion[2]}. Y la comida que más detesto es {mi_informacion[3]}.\n",
        "Mi trabajo ideal sería {mi_informacion[4]}.\n",
        "¡Gracias, chau!\n",
        "''')"
      ]
    },
    {
      "cell_type": "markdown",
      "metadata": {
        "id": "m5C97GN-C0Oz"
      },
      "source": [
        "Para que esta string funcione, asigna una lista a la variable `mi_informacion` con toda la información necesaria para imprimir tu micro-bio debajo de la celda."
      ]
    },
    {
      "cell_type": "markdown",
      "metadata": {
        "id": "mkSKkIMdC0O0"
      },
      "source": [
        "<details><summary>Solución</summary>\n",
        "\n",
        "```python\n",
        "# Obviamente tu solución tendrá tus propios datos, no los de esta persona ficticia que nos acabamos de inventar\n",
        "    \n",
        "mi_informacion = [\n",
        "    \"Fernando de la Vega Gutierrez III\",\n",
        "    \"El Tercer Fer\",\n",
        "    \"la sangre de mis enemigos\",\n",
        "    \"lasagna vegetariana\",\n",
        "    \"Lord Absoluto del Planeta Tierra\"\n",
        "]\n",
        "```\n",
        "    \n",
        "</details>"
      ]
    },
    {
      "cell_type": "markdown",
      "metadata": {
        "id": "h9wG_iUnC0O0"
      },
      "source": [
        "#### b) Una lista construida con variables\n",
        "\n",
        "Debajo de esta celda vemos los nombres de varias variables y una lista que las contiene."
      ]
    },
    {
      "cell_type": "code",
      "execution_count": 5,
      "metadata": {
        "id": "8rBtbgDrC0O0"
      },
      "outputs": [],
      "source": [
        "info_0 = \"gatos\"\n",
        "info_1 = \"dominar al mundo\"\n",
        "info_2 = \"se daran cuenta de su error\"\n",
        "info_3 = \"obedecer a los gatos\"\n",
        "info_4 = \"mantengo feliz a mi michi\"\n",
        "\n",
        "info_faltante= [info_0, info_1, info_2, info_3, info_4]"
      ]
    },
    {
      "cell_type": "markdown",
      "metadata": {
        "id": "I1krbrCyC0O1"
      },
      "source": [
        "Ahora, tenemos un `print` que imprime una pequeña historia utilizando la lista `info_faltante` que contiene a las demás variables:"
      ]
    },
    {
      "cell_type": "code",
      "execution_count": 6,
      "metadata": {
        "id": "--eiKd42C0O1",
        "outputId": "4180e8d6-acae-4676-f6a1-b471211e7dce",
        "colab": {
          "base_uri": "https://localhost:8080/"
        }
      },
      "outputs": [
        {
          "output_type": "stream",
          "name": "stdout",
          "text": [
            "\n",
            "Algún día los gatos lograrán su objetivo. Su objetivo de dominar al mundo.\n",
            "Ese día, los humanos se daran cuenta de su error y tendrán que obedecer a los gatos.\n",
            "Por esa razón yo todos los días mantengo feliz a mi michi.\n",
            "\n"
          ]
        }
      ],
      "source": [
        "print(f'''\n",
        "Algún día los {info_faltante[0]} lograrán su objetivo. Su objetivo de {info_faltante[1]}.\n",
        "Ese día, los humanos {info_faltante[2]} y tendrán que {info_faltante[3]}.\n",
        "Por esa razón yo todos los días {info_faltante[4]}.\n",
        "''')"
      ]
    },
    {
      "cell_type": "markdown",
      "metadata": {
        "id": "Ri8xoPRjC0O2"
      },
      "source": [
        "Tu reto será asignar las variables `info_x` con la información que desees para crear una historia a tu gusto. Cada variable puede contener una string que tenga varias palabras (frases, pues). Si te dan ganas, ¡comparte la historia con tus compañeros!"
      ]
    },
    {
      "cell_type": "markdown",
      "metadata": {
        "id": "3O1nO1cfC0O2"
      },
      "source": [
        "<details><summary>Solución</summary>\n",
        "\n",
        "```python\n",
        "# Solución muestra. Todas las soluciones se van a ver distintas porque nuestros cerebros no son el mismo cerebro (duh).\n",
        "    \n",
        "info_0 = \"Champiñones\"\n",
        "info_1 = \"ser el alimento más nutritivo sobre la Tierra\"\n",
        "info_2 = \"al fin admirarán a los champiñones como lo merecen\"\n",
        "info_3 = \"dejar de comer todos los demás alimentos para siempre\"\n",
        "info_4 = \"como Corn Flakes en el desayuno, porque todavía puedo\"\n",
        "```\n",
        "    \n",
        "</details>"
      ]
    },
    {
      "cell_type": "markdown",
      "metadata": {
        "id": "fHBYlOI0C0O2"
      },
      "source": [
        "#### c) Practicando el operador de indexación\n",
        "\n",
        "Debajo de esta celda hay una lista con números dentro:"
      ]
    },
    {
      "cell_type": "code",
      "execution_count": 9,
      "metadata": {
        "id": "yElQZKFoC0O2"
      },
      "outputs": [],
      "source": [
        "respuestas = [0.58, 9, 2, 3, 37, 5, 75, 4]"
      ]
    },
    {
      "cell_type": "markdown",
      "metadata": {
        "id": "S-Ep-zqLC0O3"
      },
      "source": [
        "Ahora, tenemos un `print` con una string interpolada. Como puedes ver todas las interpolaciones están vacías:"
      ]
    },
    {
      "cell_type": "code",
      "execution_count": 11,
      "metadata": {
        "id": "CV61nxcpC0O3",
        "outputId": "70ffd368-c73e-4c1a-b9a3-76a5fd0d9078",
        "colab": {
          "base_uri": "https://localhost:8080/"
        }
      },
      "outputs": [
        {
          "output_type": "stream",
          "name": "stdout",
          "text": [
            "\n",
            "1. Los humanos tenemos 2 ojos en la cara.\n",
            "2. Un humano adulto tiene 32 dientes dentro de su boca.\n",
            "3. Un feto tarda 9 meses en gestarse antes de nacer.\n",
            "4. La expectativa de vida en México es de alrededor de 75 años.\n",
            "5. Las horas de sueño al día recomendadas para adultos jóvenes son entre 7 y 9.\n",
            "6. El récord actual de velocidad en 100 metros (09/05/2020) fue establecido por Usain Bolt y es de 9.58\n",
            "\n"
          ]
        }
      ],
      "source": [
        "print(f'''\n",
        "1. Los humanos tenemos {respuestas[2]} ojos en la cara.\n",
        "2. Un humano adulto tiene {respuestas[4] - respuestas[5]} dientes dentro de su boca.\n",
        "3. Un feto tarda {respuestas[1]} meses en gestarse antes de nacer.\n",
        "4. La expectativa de vida en México es de alrededor de {respuestas[6]} años.\n",
        "5. Las horas de sueño al día recomendadas para adultos jóvenes son entre {respuestas[3] + respuestas[7]} y {respuestas[1]}.\n",
        "6. El récord actual de velocidad en 100 metros (09/05/2020) fue establecido por Usain Bolt y es de {respuestas[0] + respuestas[1]}\n",
        "''')"
      ]
    },
    {
      "cell_type": "markdown",
      "metadata": {
        "id": "BTh4QZzaC0O3"
      },
      "source": [
        "Tu reto es llenar las interpolaciones en la string con elementos de la lista de arriba. Usa los índices de los elementos para acceder a las respuestas correctas y llenar la lista con información coherente. No todas las respuestas están en la lista. Para obtener algunas respuestas tendrás que acceder a elementos de la lista y realizar operaciones numéricas conn ellos (usando `+` o `-`).\n",
        "\n",
        "> Reto extra: Si quieres un poco más de dificultad, accede a todos los elementos usando **solamente** números negativos como índices"
      ]
    },
    {
      "cell_type": "markdown",
      "metadata": {
        "id": "vlP-ai8wC0O3"
      },
      "source": [
        "<details><summary>Solución</summary>\n",
        "\n",
        "```python\n",
        "print(f'''\n",
        "1. Los humanos tenemos {respuestas[2]} ojos en la cara.\n",
        "2. Un humano adulto tiene {respuestas[4] - respuestas[5]} dientes dentro de su boca.\n",
        "3. Un feto tarda {respuestas[1]} meses en gestarse antes de nacer.\n",
        "4. La expectativa de vida en México es de alrededor de {respuestas[6]} años.\n",
        "5. Las horas de sueño al día recomendadas para adultos jóvenes son entre {respuestas[3] + respuestas[7]} y {respuestas[1]}.\n",
        "6. El récord actual de velocidad en 100 metros (09/05/2020) fue establecido por Usain Bolt y es de {respuestas[0] + respuestas[1]}\n",
        "''')\n",
        "```\n",
        "    \n",
        "</details>"
      ]
    },
    {
      "cell_type": "code",
      "execution_count": null,
      "metadata": {
        "id": "ehHZWw2jC0O4"
      },
      "outputs": [],
      "source": []
    }
  ],
  "metadata": {
    "kernelspec": {
      "display_name": "Python (data_science)",
      "language": "python",
      "name": "data_science"
    },
    "language_info": {
      "codemirror_mode": {
        "name": "ipython",
        "version": 3
      },
      "file_extension": ".py",
      "mimetype": "text/x-python",
      "name": "python",
      "nbconvert_exporter": "python",
      "pygments_lexer": "ipython3",
      "version": "3.8.5"
    },
    "colab": {
      "provenance": []
    }
  },
  "nbformat": 4,
  "nbformat_minor": 0
}