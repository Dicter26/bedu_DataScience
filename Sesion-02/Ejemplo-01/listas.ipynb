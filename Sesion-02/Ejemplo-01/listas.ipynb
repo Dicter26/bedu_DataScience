{
  "cells": [
    {
      "cell_type": "markdown",
      "metadata": {
        "id": "ufiDicpJmZyv"
      },
      "source": [
        "## Ejemplo 1: Listas\n",
        "\n",
        "### 1. Objetivos:\n",
        "    - Entender la sintaxis de las listas en Python\n",
        "    - Aprender a crear listas y accesarlas\n",
        "\n",
        "---\n",
        "    \n",
        "### 2. Desarrollo:"
      ]
    },
    {
      "cell_type": "markdown",
      "metadata": {
        "id": "AK8QTIqsmZyx"
      },
      "source": [
        "#### Creando listas y accediendo a ellas\n",
        "\n",
        "Las listas son secuencias ordenadas de datos. El orden de los datos en la lista es el mismo orden que tienen los datos a la hora de ser asignados a la lista. Una lista se ve así:"
      ]
    },
    {
      "cell_type": "code",
      "execution_count": null,
      "metadata": {
        "id": "T0T3yRbdmZyx"
      },
      "outputs": [],
      "source": [
        "lista_1 = [1, 4, 6, 2, 4]"
      ]
    },
    {
      "cell_type": "markdown",
      "metadata": {
        "id": "iVRivU4cmZyy"
      },
      "source": [
        "Cada elemento en la lista tiene un índice, que se usa para poder acceder a dicho elemento. Dado que las listas son ordenadas, los índices se van asignando secuencialmente desde el primer elemento hasta el último. El primer índice es siempre `0`, y por lo tanto el último índice es siempre `n - 1`, donde `n` es el número total de elementos en la lista."
      ]
    },
    {
      "cell_type": "markdown",
      "metadata": {
        "id": "dR_tghy1mZyz"
      },
      "source": [
        "Por lo tanto, para acceder al primer y al último elemento de la lista anterior, hacemos lo siguiente:"
      ]
    },
    {
      "cell_type": "code",
      "execution_count": null,
      "metadata": {
        "id": "kpRmW7WpmZyz",
        "outputId": "10e51fda-fde4-4da1-b626-ae7b49f32e18"
      },
      "outputs": [
        {
          "name": "stdout",
          "output_type": "stream",
          "text": [
            "Primer elemento de la lista: 1\n",
            "Último elemento de la lista: 4\n"
          ]
        }
      ],
      "source": [
        "print(f'Primer elemento de la lista: {lista_1[0]}')\n",
        "print(f'Último elemento de la lista: {lista_1[4]}')"
      ]
    },
    {
      "cell_type": "markdown",
      "metadata": {
        "id": "_UPZ8vcImZy0"
      },
      "source": [
        "Si intentamos acceder a un índice que no existe, porque no hay suficientes elementos en la lista, Python nos da un error:"
      ]
    },
    {
      "cell_type": "code",
      "execution_count": null,
      "metadata": {
        "id": "PUuvOIbamZy1",
        "outputId": "3f717c48-9daf-4820-df88-ff979a3fc074"
      },
      "outputs": [
        {
          "ename": "IndexError",
          "evalue": "list index out of range",
          "output_type": "error",
          "traceback": [
            "\u001b[0;31m---------------------------------------------------------------------------\u001b[0m",
            "\u001b[0;31mIndexError\u001b[0m                                Traceback (most recent call last)",
            "\u001b[0;32m<ipython-input-5-0dcef23360a8>\u001b[0m in \u001b[0;36m<module>\u001b[0;34m\u001b[0m\n\u001b[0;32m----> 1\u001b[0;31m \u001b[0mlista_1\u001b[0m\u001b[0;34m[\u001b[0m\u001b[0;36m10\u001b[0m\u001b[0;34m]\u001b[0m\u001b[0;34m\u001b[0m\u001b[0;34m\u001b[0m\u001b[0m\n\u001b[0m",
            "\u001b[0;31mIndexError\u001b[0m: list index out of range"
          ]
        }
      ],
      "source": [
        "lista_1[10]"
      ]
    },
    {
      "cell_type": "markdown",
      "metadata": {
        "id": "pMfi1MGKmZy1"
      },
      "source": [
        "Dado que es difícil saber cuántos elementos hay en una lista, a menos que nos pongamos a contar, hay algo que podemos hacer para acceder a los últimos elementos de una lista sin arriesgarnos a tener un error:"
      ]
    },
    {
      "cell_type": "markdown",
      "metadata": {
        "id": "eY-QiI-XmZy2"
      },
      "source": [
        "- Python nos permite acceder a los elementos empezando desde el último elemento hasta el primero (al revés, pues). Esto se hace usando números negativos. O sea que para acceder al último número puedo usar un `-1`, para acceder al penúltimo número puedo usar `-2` y así consecutivamente:"
      ]
    },
    {
      "cell_type": "code",
      "execution_count": null,
      "metadata": {
        "id": "ZmL33TfWmZy2",
        "outputId": "c1329328-8824-453f-84ed-84361fb97f63"
      },
      "outputs": [
        {
          "name": "stdout",
          "output_type": "stream",
          "text": [
            "4\n",
            "2\n"
          ]
        }
      ],
      "source": [
        "print(lista_1[-1])\n",
        "print(lista_1[-2])"
      ]
    },
    {
      "cell_type": "markdown",
      "metadata": {
        "id": "3NE4EoqDmZy3"
      },
      "source": [
        "Como podrás imaginar, no solamente podemos guardar datos crudos en una lista (`1, 2, 3, 4, etc`). Podemos guardar datos en variables y luego guardar esas variables en la lista. Las siguientes dos listas son equivalentes:"
      ]
    },
    {
      "cell_type": "code",
      "execution_count": null,
      "metadata": {
        "id": "Dn9hCMI1mZy3",
        "outputId": "bc868a2c-79b1-43ac-f707-84ca5d2c6bfd"
      },
      "outputs": [
        {
          "name": "stdout",
          "output_type": "stream",
          "text": [
            "[1, 2, 3, 4, 5]\n",
            "[1, 2, 3, 4, 5]\n"
          ]
        }
      ],
      "source": [
        "lista_con_valores_crudos = [1, 2, 3, 4, 5]\n",
        "\n",
        "uno = 1\n",
        "dos = 2\n",
        "tres = 3\n",
        "cuatro = 4\n",
        "cinco = 5\n",
        "\n",
        "lista_con_variables = [uno, dos, tres, cuatro, cinco]\n",
        "\n",
        "print(lista_con_valores_crudos)\n",
        "print(lista_con_variables)"
      ]
    },
    {
      "cell_type": "markdown",
      "metadata": {
        "id": "KKFN_H8ymZy3"
      },
      "source": [
        "#### Tipos de datos en una lista\n",
        "\n",
        "Como vimos en el Prework, una lista puede contener cualquier tipo de dato de los que ya conocemos (incluso otras listas)."
      ]
    },
    {
      "cell_type": "code",
      "execution_count": null,
      "metadata": {
        "id": "slCJ9HpimZy4"
      },
      "outputs": [],
      "source": [
        "lista_de_ints = [1, 5, 8, 77, 45, 30]\n",
        "lista_de_floats = [2.4, 5.67, 8.7, 9.34]\n",
        "lista_de_strings = [\"Juan\", \"Pepe\", \"Pedro\", \"Jose\"]\n",
        "lista_de_booleanos = [True, False, False, True, False]\n",
        "lista_de_listas_de_ints = [[3, 4, 6], [7, 8, 9], [4, 6, 2]]"
      ]
    },
    {
      "cell_type": "markdown",
      "metadata": {
        "id": "U7t9-7epmZy4"
      },
      "source": [
        "A pesar de que Python nos permite guardar diversos tipos de datos en una sola lista, aprendimos que la mejor práctica es evitar esto y guardar un solo tipo de dato por lista"
      ]
    },
    {
      "cell_type": "code",
      "execution_count": null,
      "metadata": {
        "id": "pzIQbW9SmZy4"
      },
      "outputs": [],
      "source": [
        "¡Vayamos a nuestro primer reto!"
      ]
    }
  ],
  "metadata": {
    "kernelspec": {
      "display_name": "Python (data_science)",
      "language": "python",
      "name": "data_science"
    },
    "language_info": {
      "codemirror_mode": {
        "name": "ipython",
        "version": 3
      },
      "file_extension": ".py",
      "mimetype": "text/x-python",
      "name": "python",
      "nbconvert_exporter": "python",
      "pygments_lexer": "ipython3",
      "version": "3.8.5"
    },
    "colab": {
      "provenance": []
    }
  },
  "nbformat": 4,
  "nbformat_minor": 0
}