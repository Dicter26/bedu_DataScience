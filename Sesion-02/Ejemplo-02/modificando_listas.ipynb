{
  "cells": [
    {
      "cell_type": "markdown",
      "metadata": {
        "id": "O-GcgqKvrDzf"
      },
      "source": [
        "## Ejemplo 2: Modificando listas\n",
        "\n",
        "### 1. Objetivos:\n",
        "    - Conocer los 2 métodos básicos que tenemos para modificar listas\n",
        "\n",
        "---\n",
        "    \n",
        "### 2. Desarrollo:"
      ]
    },
    {
      "cell_type": "markdown",
      "metadata": {
        "id": "FNeTW3bOrDzh"
      },
      "source": [
        "#### Append\n",
        "\n",
        "`append` agrega un elemento al final de la lista:"
      ]
    },
    {
      "cell_type": "code",
      "execution_count": null,
      "metadata": {
        "id": "1ecuLQuVrDzh",
        "outputId": "03798ec4-65c8-47e6-9222-9aacffaba683"
      },
      "outputs": [
        {
          "data": {
            "text/plain": [
              "[1, 2, 3, 4, 5, 6, 7]"
            ]
          },
          "execution_count": 1,
          "metadata": {},
          "output_type": "execute_result"
        }
      ],
      "source": [
        "lista_1 = [1, 2, 3, 4, 5, 6]\n",
        "\n",
        "lista_1.append(7)\n",
        "\n",
        "lista_1"
      ]
    },
    {
      "cell_type": "markdown",
      "metadata": {
        "id": "wHxLDRC2rDzj"
      },
      "source": [
        "#### Pop\n",
        "\n",
        "`pop` remueve el último elemento de la lista si lo llamamos sin argumentos. Si le pasamos un índice, remueve el elemento que se encuentre almacenado en ese índice:"
      ]
    },
    {
      "cell_type": "code",
      "execution_count": null,
      "metadata": {
        "id": "oLs5oPc6rDzj",
        "outputId": "91db322b-7764-424e-801b-d836665b0f79"
      },
      "outputs": [
        {
          "data": {
            "text/plain": [
              "[1, 2, 3, 4, 5]"
            ]
          },
          "execution_count": 2,
          "metadata": {},
          "output_type": "execute_result"
        }
      ],
      "source": [
        "lista_2 = [1, 2, 3, 4, 5, 6]\n",
        "\n",
        "lista_2.pop()\n",
        "\n",
        "lista_2"
      ]
    },
    {
      "cell_type": "code",
      "execution_count": null,
      "metadata": {
        "id": "lgSw-j7brDzk",
        "outputId": "02ae2108-022c-4c9f-d37d-ae82ab5ac825"
      },
      "outputs": [
        {
          "data": {
            "text/plain": [
              "[1, 3, 4, 5]"
            ]
          },
          "execution_count": 3,
          "metadata": {},
          "output_type": "execute_result"
        }
      ],
      "source": [
        "lista_2.pop(1)\n",
        "\n",
        "lista_2"
      ]
    },
    {
      "cell_type": "markdown",
      "metadata": {
        "id": "k_XULXXXrDzk"
      },
      "source": [
        "---\n",
        "\n",
        "¡Practiquemos ahora con un segundo reto!"
      ]
    }
  ],
  "metadata": {
    "kernelspec": {
      "display_name": "Python (data_science)",
      "language": "python",
      "name": "data_science"
    },
    "language_info": {
      "codemirror_mode": {
        "name": "ipython",
        "version": 3
      },
      "file_extension": ".py",
      "mimetype": "text/x-python",
      "name": "python",
      "nbconvert_exporter": "python",
      "pygments_lexer": "ipython3",
      "version": "3.8.5"
    },
    "colab": {
      "provenance": []
    }
  },
  "nbformat": 4,
  "nbformat_minor": 0
}