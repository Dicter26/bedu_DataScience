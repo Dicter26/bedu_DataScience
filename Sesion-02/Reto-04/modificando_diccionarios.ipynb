{
  "cells": [
    {
      "cell_type": "markdown",
      "metadata": {
        "id": "35I7vmLjJti2"
      },
      "source": [
        "## Reto 4: Modificando diccionarios\n",
        "\n",
        "### 1. Objetivos:\n",
        "    - Practicar agregar datos, modificar datos y eliminar datos de diccionarios\n",
        "\n",
        "---\n",
        "    \n",
        "### 2. Desarrollo:"
      ]
    },
    {
      "cell_type": "markdown",
      "metadata": {
        "id": "DLU8MhxuJti4"
      },
      "source": [
        "Debajo tienes un diccionario que contiene algo de información sobre una persona:"
      ]
    },
    {
      "cell_type": "code",
      "execution_count": 11,
      "metadata": {
        "id": "D43l6R5kJti5",
        "outputId": "3069519b-4478-4412-e664-c88230bec9d8",
        "colab": {
          "base_uri": "https://localhost:8080/",
          "height": 35
        }
      },
      "outputs": [
        {
          "output_type": "execute_result",
          "data": {
            "text/plain": [
              "'316085412'"
            ],
            "application/vnd.google.colaboratory.intrinsic+json": {
              "type": "string"
            }
          },
          "metadata": {},
          "execution_count": 11
        }
      ],
      "source": [
        "registro = {\n",
        "    \"id\": \"23f-58j-kju7-54re\",\n",
        "    \"nombre\": \"Alberto\",\n",
        "    \"apellido_materno\": \"Gutierrez\",\n",
        "    \"apellido_paterno\": \"Sosa\",\n",
        "    \"profesion\": \"Contador\",\n",
        "    \"ultimo_nivel_de_estudios\": \"Maestría\",\n",
        "    \"lugar_de_estudios\": \"UAM\",\n",
        "    \"numero_de_cuenta\": \"25367890\",\n",
        "    \"nip_de_cajero\": \"142\"\n",
        "}\n",
        "\n",
        "registro = {\n",
        "    \"id\": \"gard000524asdf\",\n",
        "    \"nombre\": \"Dicter Tadeo\",\n",
        "    \"apellido_materno\": \"Garcia\",\n",
        "    \"apellido_paterno\": \"Rosas\",\n",
        "    \"profesion\": \"estudiante\",\n",
        "    \"ultimo_nivel_de_estudios\": \"Licenciatura\",\n",
        "    \"lugar_de_estudios\": \"UNAM\",\n",
        "    \"numero_de_cuenta\": \"316085412\",\n",
        "    \"nip_de_cajero\": \"123\"\n",
        "}\n",
        "\n",
        "registro[\"fecha_de_nacimiento\"]= \"26/05/2000\"\n",
        "registro[\"lugar_de_nacimiento\"] = \"San Angel\"\n",
        "registro.pop(\"nip_de_cajero\")\n",
        "registro.pop(\"numero_de_cuenta\")"
      ]
    },
    {
      "cell_type": "markdown",
      "metadata": {
        "id": "CVDu-uvpJti6"
      },
      "source": [
        "Ahora, tenemos una serie de `prints` que imprimen esta información en forma de tabla:"
      ]
    },
    {
      "cell_type": "code",
      "execution_count": 12,
      "metadata": {
        "id": "eU3hixC6Jti7",
        "outputId": "d6afb102-0248-44c2-f0d6-40100aa2d90e",
        "colab": {
          "base_uri": "https://localhost:8080/"
        }
      },
      "outputs": [
        {
          "output_type": "stream",
          "name": "stdout",
          "text": [
            "Registro con id: gard000524asdf\n",
            "\n",
            "---------------------------------------\n",
            "\n",
            "Nombre                    | Dicter Tadeo             \n",
            "Apellido Materno          | Garcia                   \n",
            "Apellido Paterno          | Rosas                    \n",
            "Profesión                 | estudiante               \n",
            "Último nivel de estudios  | Licenciatura             \n",
            "Lugar de estudios         | UNAM                     \n",
            "Fecha de nacimiento       | 26/05/2000               \n",
            "Lugar de nacimiento       | San Angel                \n"
          ]
        }
      ],
      "source": [
        "print(f'Registro con id: {registro[\"id\"]}\\n')\n",
        "print(f'---------------------------------------\\n')\n",
        "print(f'{(\"Nombre\"):25} | {registro[\"nombre\"]:25}')\n",
        "print(f'{(\"Apellido Materno\"):25} | {registro[\"apellido_materno\"]:25}')\n",
        "print(f'{(\"Apellido Paterno\"):25} | {registro[\"apellido_paterno\"]:25}')\n",
        "print(f'{(\"Profesión\"):25} | {registro[\"profesion\"]:25}')\n",
        "print(f'{(\"Último nivel de estudios\"):25} | {registro[\"ultimo_nivel_de_estudios\"]:25}')\n",
        "print(f'{(\"Lugar de estudios\"):25} | {registro[\"lugar_de_estudios\"]:25}')\n",
        "print(f'{(\"Fecha de nacimiento\"):25} | {registro[\"fecha_de_nacimiento\"]:25}')\n",
        "print(f'{(\"Lugar de nacimiento\"):25} | {registro[\"lugar_de_nacimiento\"]:25}')"
      ]
    },
    {
      "cell_type": "markdown",
      "metadata": {
        "id": "jKRAOK-vJti7"
      },
      "source": [
        "La actividad tienen 3 partes:\n",
        "\n",
        "1. Usando la técnica para modificar valores en un diccionario, cambia la información del diccionario para que sea la tuya.\n",
        "2. Usando la técnica para agregar datos al diccionario agrega las llaves que estén siendo accesadas en el `print` pero que no han sido agregadas al diccionario.\n",
        "3. Usando la técnica para eliminar datos del diccionario, elimina los datos sensibles que no quieras que estén incluidos en el diccionario.\n",
        "\n",
        "Recuerda sólo utilizar métodos y operadores para realizar el ejercicio. **No reescribas el diccionario directamente**."
      ]
    },
    {
      "cell_type": "markdown",
      "metadata": {
        "id": "xiJMVVErJti8"
      },
      "source": [
        "<details><summary>Solución</summary>\n",
        "\n",
        "```python\n",
        "# Si eres Alberto Sosa Gutiérrez, perdón por usar tus datos sin tu permiso\n",
        "    \n",
        "registro[\"nombre\"] = \"José Ramón\"\n",
        "registro[\"apellido_materno\"] = \"Arias\"\n",
        "registro[\"apellido_paterno\"] = \"González\"\n",
        "registro[\"profesion\"] = \"Cientifico de Datos\"\n",
        "registro[\"ultimo_nivel_de_estudios\"] = \"licenciatura\"\n",
        "registro[\"lugar_de_estudios\"] = \"UNAM\"\n",
        "registro[\"fecha_de_nacimiento\"] = \"28 de Marzo de 1989\"\n",
        "registro[\"lugar_de_nacimiento\"] = \"CDMX\"\n",
        "registro.pop(\"numero_de_cuenta\")\n",
        "registro.pop(\"nip_de_cajero\")\n",
        "```\n",
        "    \n",
        "</details>"
      ]
    },
    {
      "cell_type": "code",
      "execution_count": null,
      "metadata": {
        "id": "wKRU5vAyJti8"
      },
      "outputs": [],
      "source": []
    }
  ],
  "metadata": {
    "kernelspec": {
      "display_name": "Python (data_science)",
      "language": "python",
      "name": "data_science"
    },
    "language_info": {
      "codemirror_mode": {
        "name": "ipython",
        "version": 3
      },
      "file_extension": ".py",
      "mimetype": "text/x-python",
      "name": "python",
      "nbconvert_exporter": "python",
      "pygments_lexer": "ipython3",
      "version": "3.8.5"
    },
    "colab": {
      "provenance": []
    }
  },
  "nbformat": 4,
  "nbformat_minor": 0
}