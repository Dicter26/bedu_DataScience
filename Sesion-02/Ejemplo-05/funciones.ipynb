{
  "cells": [
    {
      "cell_type": "markdown",
      "metadata": {
        "id": "wu5TUK4j6u8P"
      },
      "source": [
        "## Ejemplo 5: Funciones\n",
        "\n",
        "### 1. Objetivos:\n",
        "    - Entender la sintaxis de las funciones\n",
        "    - Aprender cómo pasarle parámetros a las funciones\n",
        "    - Entender cómo aprovechar los valores que regresa el `return`\n",
        "    - Entender el concepto de `contexto` y cómo las variables definidas dentro de la función sólo pueden ser accedidas dentro de la función\n",
        "\n",
        "---\n",
        "    \n",
        "### 2. Desarrollo:"
      ]
    },
    {
      "cell_type": "markdown",
      "metadata": {
        "id": "6nZNdmfA6u8R"
      },
      "source": [
        "Queremos hacer funciones porque queremos evitar repetir código en nuestro programa. En vez de escribir 10 veces el mismo proceso en diferentes lugares de nuestro código, podemos escribir una función que contenga ese proceso y simplemente usarla en los 10 lugares donde suceda ese proceso."
      ]
    },
    {
      "cell_type": "markdown",
      "metadata": {
        "id": "OC_bZ-416u8S"
      },
      "source": [
        "#### Sintaxis\n",
        "\n",
        "Una función se ve así:"
      ]
    },
    {
      "cell_type": "code",
      "execution_count": null,
      "metadata": {
        "id": "xj_8cP2i6u8S"
      },
      "outputs": [],
      "source": [
        "def multiplicar_numero_por_pi(numero):\n",
        "    resultado = numero * 3.14\n",
        "\n",
        "    return resultado"
      ]
    },
    {
      "cell_type": "markdown",
      "metadata": {
        "id": "cCyewTcC6u8T"
      },
      "source": [
        "Es muy importante notar lo siguiente:\n",
        "\n",
        "1. La declaración comienza con la palabra `def`.\n",
        "2. El nombre de la función sigue las mismas convenciones de nombramiento que las variables (snake_case).\n",
        "3. Los `parámetros` de la función van dentro del paréntesis.\n",
        "4. Hay unos `dos puntos (:)` después del paréntesis que indican el inicio del bloque de la función\n",
        "5. El bloque de la función (todos los procesos que se van a llevar a cabo cuando llamemos la función) deben de estar indentados. Lo que está indentado es parte de la función. En cuanto hay una línea que no esté indentada, eso indica que la definición de la función ha terminado.\n",
        "6. Las funciones tienen una sentencia `return` que regresa el resultado de nuestro proceso para que pueda ser utilizado en otras partes de nuestro programa."
      ]
    },
    {
      "cell_type": "markdown",
      "metadata": {
        "id": "2Gua27ec6u8U"
      },
      "source": [
        "#### Parámetros\n",
        "\n",
        "Los parámetros de una función son los nombres de los valores que le pasamos a la función cada vez que la llamamos. La función utiliza estos parámetros para realizar sus procesos. Estos parámetros son los ingredientes necesarios para que la función lleve a cabo su proceso. Sin parámetros, las funciones harían siempre lo mismo:"
      ]
    },
    {
      "cell_type": "code",
      "execution_count": null,
      "metadata": {
        "id": "8irS-aMP6u8U",
        "outputId": "c8b0f6b8-b70c-4bd7-982a-b39e677ebdbb"
      },
      "outputs": [
        {
          "name": "stdout",
          "output_type": "stream",
          "text": [
            "20\n",
            "20\n",
            "20\n"
          ]
        }
      ],
      "source": [
        "def esta_funcion_hace_siempre_lo_mismo():\n",
        "\n",
        "    resultado = 2 * 10\n",
        "\n",
        "    return resultado\n",
        "\n",
        "print(esta_funcion_hace_siempre_lo_mismo())\n",
        "print(esta_funcion_hace_siempre_lo_mismo())\n",
        "print(esta_funcion_hace_siempre_lo_mismo())"
      ]
    },
    {
      "cell_type": "markdown",
      "metadata": {
        "id": "gtBgEvsi6u8V"
      },
      "source": [
        "Vamos a modificar esta función para que el resultado sea distino dependiendo del valor que le pasemos:"
      ]
    },
    {
      "cell_type": "code",
      "execution_count": null,
      "metadata": {
        "id": "5-0JCS8e6u8W",
        "outputId": "1e266e39-8ab0-4e3f-e814-55758b095567"
      },
      "outputs": [
        {
          "name": "stdout",
          "output_type": "stream",
          "text": [
            "40\n",
            "100\n",
            "660\n"
          ]
        }
      ],
      "source": [
        "def esta_funcion_multiplica_el_argumento_por_10_y_lo_regresa(parametro):\n",
        "\n",
        "    resultado = parametro * 10\n",
        "\n",
        "    return resultado\n",
        "\n",
        "print(esta_funcion_multiplica_el_argumento_por_10_y_lo_regresa(4))\n",
        "print(esta_funcion_multiplica_el_argumento_por_10_y_lo_regresa(10))\n",
        "print(esta_funcion_multiplica_el_argumento_por_10_y_lo_regresa(66))"
      ]
    },
    {
      "cell_type": "markdown",
      "metadata": {
        "id": "DbmjUDNe6u8W"
      },
      "source": [
        "Ahora nuestra función tiene mucha más utilidad, ya que es flexible. Tal vez habrás notado que en el nombre de la función usé la palabra `argumento` en vez de `parámetro`. Es un poco confuso pero los `parámetros` son los nombres que se definen para ser utilizados dentro de la función, mientras que los `argumentos` son los valores que le pasamos a la función cuando la llamamos."
      ]
    },
    {
      "cell_type": "markdown",
      "metadata": {
        "id": "Ncmi1Wu36u8W"
      },
      "source": [
        "Podemos definir más de un parámetro por función (en realidad el número es ilimitado), pero la mejor práctica es mantener el número de parámetros lo más pequeño posible. Entre menos parámetros usemos, mejor está pensada nuestra función.\n",
        "\n",
        "Veamos una función con dos parámetros:"
      ]
    },
    {
      "cell_type": "code",
      "execution_count": null,
      "metadata": {
        "id": "03DmMoqp6u8X",
        "outputId": "8179fe11-fc5e-4008-e0d6-9e0f9161a264"
      },
      "outputs": [
        {
          "data": {
            "text/plain": [
              "[2, 34, 26, 88, 4, 66]"
            ]
          },
          "execution_count": 3,
          "metadata": {},
          "output_type": "execute_result"
        }
      ],
      "source": [
        "def agregar_numero_a_lista_si_el_numero_es_par(lista, numero):\n",
        "\n",
        "    if numero % 2 == 0:\n",
        "        lista.append(numero)\n",
        "\n",
        "    return lista\n",
        "\n",
        "lista_de_ints = [2, 34, 26, 88, 4]\n",
        "\n",
        "lista_de_ints = agregar_numero_a_lista_si_el_numero_es_par(lista_de_ints, 5)\n",
        "lista_de_ints = agregar_numero_a_lista_si_el_numero_es_par(lista_de_ints, 66)\n",
        "\n",
        "lista_de_ints"
      ]
    },
    {
      "cell_type": "markdown",
      "metadata": {
        "id": "4mvadXzC6u8X"
      },
      "source": [
        "Esta función recibe una lista y un número, checa si el número es par, y si es par agrega el número a la lista. Finalmente, regresa la lista (que puede estar modificada o no). Como puedes observar, podemos reasignar variables una y otra vez. Cada vez que obtenemos la lista modificada (o no) de la función `agregar_numero_a_lista_si_el_numero_es_par`, la reasignamos a `lista_de_ints` para tener la lisa actualizada."
      ]
    },
    {
      "cell_type": "markdown",
      "metadata": {
        "id": "FVAjS6CW6u8X"
      },
      "source": [
        "#### Return\n",
        "\n",
        "Todas las funciones que hemos definido hasta ahora tienen al final una sentencia `return`. `return` regresa el valor que escribimos a su derecha, que normalmente es el resultado del proceso que hemos realizado dentro de la función.\n",
        "\n",
        "Si no hubiera `return`, los procesos que suceden dentro de nuestras funciones se quedarían ahí y no podríamos acceder a los resultados. Eso no sería muy útil que digamos, ¿no es así?\n",
        "\n",
        "El valor que regresa nuestro `return` lo podemos guardar en otra variable para usarlo en el futuro o podemos imprimirlo directamente usando un `print` (aunque es recomendable mejor primero asignarlo a una variable y después imprimir la variable):"
      ]
    },
    {
      "cell_type": "code",
      "execution_count": null,
      "metadata": {
        "id": "DrnqYV6D6u8X",
        "outputId": "b694f7bc-c46f-4ae0-a9fa-261c16bff13c"
      },
      "outputs": [
        {
          "name": "stdout",
          "output_type": "stream",
          "text": [
            "El primer valor es mayor a 50 y menor a 60\n"
          ]
        }
      ],
      "source": [
        "def regresa_true_si_el_valor_esta_entre_50_y_60(valor):\n",
        "\n",
        "    if valor > 50:\n",
        "        if valor < 60:\n",
        "            return True\n",
        "\n",
        "    return False\n",
        "\n",
        "resultado_1 = regresa_true_si_el_valor_esta_entre_50_y_60(58)\n",
        "resultado_2 = regresa_true_si_el_valor_esta_entre_50_y_60(89)\n",
        "\n",
        "if resultado_1 == True:\n",
        "    print(\"El primer valor es mayor a 50 y menor a 60\")\n",
        "\n",
        "if resultado_2 == True:\n",
        "    print(\"El segundo valor es mayor a 50 y menor a 60\")"
      ]
    },
    {
      "cell_type": "markdown",
      "metadata": {
        "id": "E6k3LmrO6u8Y"
      },
      "source": [
        "En esta función checamos primero si un valor es mayor a 50 (`valor > 50`). Si lo es, checamos ahora que sea menor a 60 (`valor < 60`). Si también lo es, quiere decir que el valor está entre 50 y 60 y la función regresa `True`. Si las condiciones no se cumplen, la función regresa `False`. Los resultado de llamar a las función con los valores `58` y `89` son guardados en variables, que después se utilizan en una nueva condición que determina si una `string` deberá imprimirse o no.\n",
        "\n",
        "¿Puedes ver el potencial de esto?"
      ]
    },
    {
      "cell_type": "markdown",
      "metadata": {
        "id": "OppRxnX96u8Y"
      },
      "source": [
        "#### Contexto de una variable\n",
        "\n",
        "Para terminar, es importante recordar algo que vimos en el Prework: Las variables definidas dentro de una función (ya sean parámetros o variables asignadas dentro de la función) **sólo pueden ser accedidas dentro de la función**. Una vez que la función termina, las variables desaparecen y no son accesibles desde ninguna parte de nuestro código.\n",
        "\n",
        "Es por eso que este código lanza un error:"
      ]
    },
    {
      "cell_type": "code",
      "execution_count": null,
      "metadata": {
        "id": "WUeGSr-Q6u8Y",
        "outputId": "316447d4-7867-4876-eaae-519b9f8f25ca"
      },
      "outputs": [
        {
          "ename": "NameError",
          "evalue": "name 'valor_1' is not defined",
          "output_type": "error",
          "traceback": [
            "\u001b[0;31m---------------------------------------------------------------------------\u001b[0m",
            "\u001b[0;31mNameError\u001b[0m                                 Traceback (most recent call last)",
            "\u001b[0;32m<ipython-input-7-841595f74e70>\u001b[0m in \u001b[0;36m<module>\u001b[0;34m\u001b[0m\n\u001b[1;32m      8\u001b[0m \u001b[0mresultado\u001b[0m \u001b[0;34m=\u001b[0m \u001b[0msi_los_valores_son_iguales_regresa_exito\u001b[0m\u001b[0;34m(\u001b[0m\u001b[0;36m4\u001b[0m\u001b[0;34m,\u001b[0m \u001b[0;36m4\u001b[0m\u001b[0;34m)\u001b[0m\u001b[0;34m\u001b[0m\u001b[0;34m\u001b[0m\u001b[0m\n\u001b[1;32m      9\u001b[0m \u001b[0;34m\u001b[0m\u001b[0m\n\u001b[0;32m---> 10\u001b[0;31m \u001b[0mprint\u001b[0m\u001b[0;34m(\u001b[0m\u001b[0mvalor_1\u001b[0m\u001b[0;34m)\u001b[0m\u001b[0;34m\u001b[0m\u001b[0;34m\u001b[0m\u001b[0m\n\u001b[0m",
            "\u001b[0;31mNameError\u001b[0m: name 'valor_1' is not defined"
          ]
        }
      ],
      "source": [
        "def si_los_valores_son_iguales_regresa_exito(valor_1, valor_2):\n",
        "\n",
        "    if valor_1 == valor_2:\n",
        "        return \"Éxito\"\n",
        "    else:\n",
        "        return \"Error\"\n",
        "\n",
        "resultado = si_los_valores_son_iguales_regresa_exito(4, 4)\n",
        "\n",
        "print(valor_1)"
      ]
    },
    {
      "cell_type": "markdown",
      "metadata": {
        "id": "-8whkfv56u8Z"
      },
      "source": [
        "También es por eso que el siguiente código lanza error:"
      ]
    },
    {
      "cell_type": "code",
      "execution_count": null,
      "metadata": {
        "id": "QFF7-Gtt6u8Z",
        "outputId": "73a6e384-b8be-47e8-c58c-4f8ba4c3bacf"
      },
      "outputs": [
        {
          "ename": "NameError",
          "evalue": "name 'suma' is not defined",
          "output_type": "error",
          "traceback": [
            "\u001b[0;31m---------------------------------------------------------------------------\u001b[0m",
            "\u001b[0;31mNameError\u001b[0m                                 Traceback (most recent call last)",
            "\u001b[0;32m<ipython-input-8-eb2620c93fa1>\u001b[0m in \u001b[0;36m<module>\u001b[0;34m\u001b[0m\n\u001b[1;32m      7\u001b[0m \u001b[0mresultado\u001b[0m \u001b[0;34m=\u001b[0m \u001b[0msuma_42_a_numero\u001b[0m\u001b[0;34m(\u001b[0m\u001b[0;36m34\u001b[0m\u001b[0;34m)\u001b[0m\u001b[0;34m\u001b[0m\u001b[0;34m\u001b[0m\u001b[0m\n\u001b[1;32m      8\u001b[0m \u001b[0;34m\u001b[0m\u001b[0m\n\u001b[0;32m----> 9\u001b[0;31m \u001b[0mprint\u001b[0m\u001b[0;34m(\u001b[0m\u001b[0msuma\u001b[0m\u001b[0;34m)\u001b[0m\u001b[0;34m\u001b[0m\u001b[0;34m\u001b[0m\u001b[0m\n\u001b[0m",
            "\u001b[0;31mNameError\u001b[0m: name 'suma' is not defined"
          ]
        }
      ],
      "source": [
        "def suma_42_a_numero(numero):\n",
        "\n",
        "    suma = numero + 42\n",
        "\n",
        "    return suma\n",
        "\n",
        "resultado = suma_42_a_numero(34)\n",
        "\n",
        "print(suma)"
      ]
    },
    {
      "cell_type": "markdown",
      "metadata": {
        "id": "_u95wNEA6u8Z"
      },
      "source": [
        "El parámetro `valor_1` en la primera función y la variable `suma` de la segunda función sólo pueden ser usadas dentro de la función. Si intentamos usarlas fuera de la función, Python se encargará de recordarnos que eso no se puede hacer con un bonito error."
      ]
    },
    {
      "cell_type": "markdown",
      "metadata": {
        "id": "vRedMkJj6u8Z"
      },
      "source": [
        "---\n",
        "\n",
        "Pasemos ahora a lo emocionante. Vamos a definir unas cuantas funciones para dominar esta nueva herramienta tan útil."
      ]
    },
    {
      "cell_type": "code",
      "execution_count": null,
      "metadata": {
        "id": "JkOjHH776u8a"
      },
      "outputs": [],
      "source": []
    }
  ],
  "metadata": {
    "kernelspec": {
      "display_name": "Python (data_science)",
      "language": "python",
      "name": "data_science"
    },
    "language_info": {
      "codemirror_mode": {
        "name": "ipython",
        "version": 3
      },
      "file_extension": ".py",
      "mimetype": "text/x-python",
      "name": "python",
      "nbconvert_exporter": "python",
      "pygments_lexer": "ipython3",
      "version": "3.8.5"
    },
    "colab": {
      "provenance": []
    }
  },
  "nbformat": 4,
  "nbformat_minor": 0
}