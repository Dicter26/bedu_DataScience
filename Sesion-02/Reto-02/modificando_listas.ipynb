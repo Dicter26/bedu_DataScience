{
  "cells": [
    {
      "cell_type": "markdown",
      "metadata": {
        "id": "GF_qUtOTFCoj"
      },
      "source": [
        "## Reto 2: Modificando listas\n",
        "\n",
        "### 1. Objetivos:\n",
        "    - Practicar el uso de los métodos `append` `pop`.\n",
        "\n",
        "---\n",
        "    \n",
        "### 2. Desarrollo:"
      ]
    },
    {
      "cell_type": "markdown",
      "metadata": {
        "id": "EYsxTryvFCol"
      },
      "source": [
        "#### a) Modificar para eliminar diferencias\n",
        "\n",
        "Debajo tienes dos listas definidas:"
      ]
    },
    {
      "cell_type": "code",
      "execution_count": 5,
      "metadata": {
        "id": "9se70AVmFCom",
        "outputId": "fcdd2f50-1323-489c-ae2c-14e668b2b830",
        "colab": {
          "base_uri": "https://localhost:8080/"
        }
      },
      "outputs": [
        {
          "output_type": "stream",
          "name": "stdout",
          "text": [
            "[3.4, 0.7, 99.9, 5.41, 6.23, 7.9]\n"
          ]
        }
      ],
      "source": [
        "lista_1 = [3.4, 0.7, 99.9, 5.41, 6.23, 7.9]\n",
        "\n",
        "lista_2 = [3.4, 63.4, 0.7, 6.46, 99.9, 2.2, 5.41]\n",
        "\n",
        "lista_2.pop(1)\n",
        "lista_2.pop(2)\n",
        "lista_2.pop(3)\n",
        "lista_2.append(6.23)\n",
        "lista_2.append(7.9)\n",
        "print(lista_2)"
      ]
    },
    {
      "cell_type": "markdown",
      "metadata": {
        "id": "1OPhq6VVFCon"
      },
      "source": [
        "Ahora, tienes una `sentencia if` que utiliza una comparación entre las dos listas:"
      ]
    },
    {
      "cell_type": "code",
      "execution_count": 6,
      "metadata": {
        "id": "yfb1HzU9FCon",
        "outputId": "81a4ad15-b690-435a-9f12-2612db2c970b",
        "colab": {
          "base_uri": "https://localhost:8080/"
        }
      },
      "outputs": [
        {
          "output_type": "stream",
          "name": "stdout",
          "text": [
            "Tú y yo somos uno mismo\n"
          ]
        }
      ],
      "source": [
        "if lista_1 == lista_2:\n",
        "    print(\"Tú y yo somos uno mismo\")"
      ]
    },
    {
      "cell_type": "markdown",
      "metadata": {
        "id": "meJoym1dFCon"
      },
      "source": [
        "Donde dice `tu código va aquí` agrega modificaciones a la **lista_2** para lograr que ambas listas sean idénticas y el bello mensaje \"Tú y yo somos uno mismo\" se imprima. Puedes usar tanto `pop` como `append`, pero **sólo puedes modificar la lista_2**."
      ]
    },
    {
      "cell_type": "markdown",
      "metadata": {
        "id": "umLdWnipFCoo"
      },
      "source": [
        "<details><summary>Solución</summary>\n",
        "\n",
        "```python\n",
        "# El orden podría ser diferente\n",
        "    \n",
        "lista_2.pop(1)\n",
        "lista_2.pop(2)\n",
        "lista_2.pop(3)\n",
        "lista_2.append(6.23)\n",
        "lista_2.append(7.9)\n",
        "\n",
        "```\n",
        "    \n",
        "</details>"
      ]
    },
    {
      "cell_type": "markdown",
      "metadata": {
        "id": "jYVKc_kdFCoo"
      },
      "source": [
        "#### b) Corrigiendo fragmentos\n",
        "\n",
        "Debajo hay un muy pequeño fragmento del capítulo 68 de la novela \"Rayuela\" de Julio Cortázar ([Lo puedes leer aquí](https://ciudadseva.com/texto/rayuela-capitulo-68/)). Este fragmento ha sido modificado, como fácilmente podrás ver. Además, el fragmento termina con un oración inconclusa:"
      ]
    },
    {
      "cell_type": "code",
      "execution_count": 7,
      "metadata": {
        "id": "ZXY5fbshFCoo"
      },
      "outputs": [],
      "source": [
        "fragmento_fragmentado = ['Apenas', 'él', 'le', 'amalaba', 'hidrolizado' 'el', 'noema,',\n",
        "                         'a', 'ella', 'se', 'le', 'agolpaba', 'el', 'clémiso', 'súbito',\n",
        "                         'y', 'caían', 'en', 'fermales', 'hidromurias,', 'en', 'salvajes', 'ambonios,',\n",
        "                         'en', 'sustalos', 'distales', 'exasperantes.',\n",
        "                         'Cada', 'vez', 'que', 'él', 'procuraba', 'relamar', 'las', 'incopelusas,']\n",
        "\n",
        "fragmento_fragmentado.pop(4)\n",
        "fragmento_fragmentado.pop(13)\n",
        "fragmento_fragmentado.pop(16)\n",
        "fragmento_fragmentado.pop(22)\n",
        "fragmento_fragmentado.append(\"se enredaba en un grimado quejumbroso\")"
      ]
    },
    {
      "cell_type": "markdown",
      "metadata": {
        "id": "C-6Ddmf6FCop"
      },
      "source": [
        "Debajo hay código que toma la lista de arriba e imprime el fragmento en forma de texto. Tu reto es eliminar todas las modificaciones que han sido hechas al texto de Cortázar usando el método `pop`. Al terminar, puedes, si así lo deseas, agregar tu propio final a la oración inconclusa usando el método `append`.\n",
        "\n",
        "El resultado será una colaboración tuya y de Cortázar:"
      ]
    },
    {
      "cell_type": "code",
      "execution_count": 8,
      "metadata": {
        "id": "qZQRhqhqFCop",
        "outputId": "e2b8ab25-1549-42d7-9979-bdcd90c0ab2c",
        "colab": {
          "base_uri": "https://localhost:8080/"
        }
      },
      "outputs": [
        {
          "output_type": "stream",
          "name": "stdout",
          "text": [
            "==Colaboración póstuma de Córtazar y Dicter==\n",
            "\n",
            "Apenas él le amalaba noema, a ella se le agolpaba el clémiso súbito caían en fermales en salvajes ambonios, en sustalos distales Cada vez que él procuraba relamar las incopelusas, se enredaba en un grimado quejumbroso\n"
          ]
        }
      ],
      "source": [
        "tu_nombre = \"Dicter\"  # Tu nombre va aquí\n",
        "\n",
        "print(f'==Colaboración póstuma de Córtazar y {tu_nombre}==\\n')\n",
        "print(f'{\" \".join(fragmento_fragmentado)}')"
      ]
    },
    {
      "cell_type": "markdown",
      "metadata": {
        "id": "30BWAxpPFCoq"
      },
      "source": [
        "<details><summary>Solución</summary>\n",
        "\n",
        "```python\n",
        "# La colaboración (lo que va en el append) podría ser distinta. En caso de que sea igual, tal vez estemos entrelazados cuánticamente. ¡Búscame!\n",
        "    \n",
        "fragmento_fragmentado.pop(4)\n",
        "fragmento_fragmentado.pop(12)\n",
        "fragmento_fragmentado.pop(15)\n",
        "fragmento_fragmentado.pop(21)\n",
        "fragmento.append(\"se dirimían en conjunto: flémalos, húmalos, y vivosos estallidos\"\n",
        "```\n",
        "    \n",
        "</details>"
      ]
    },
    {
      "cell_type": "code",
      "execution_count": null,
      "metadata": {
        "id": "eLmOxg3aFCoq"
      },
      "outputs": [],
      "source": []
    }
  ],
  "metadata": {
    "kernelspec": {
      "display_name": "Python (data_science)",
      "language": "python",
      "name": "data_science"
    },
    "language_info": {
      "codemirror_mode": {
        "name": "ipython",
        "version": 3
      },
      "file_extension": ".py",
      "mimetype": "text/x-python",
      "name": "python",
      "nbconvert_exporter": "python",
      "pygments_lexer": "ipython3",
      "version": "3.8.5"
    },
    "colab": {
      "provenance": []
    }
  },
  "nbformat": 4,
  "nbformat_minor": 0
}