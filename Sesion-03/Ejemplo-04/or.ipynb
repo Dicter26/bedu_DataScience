{
  "cells": [
    {
      "cell_type": "markdown",
      "metadata": {
        "id": "xbih3YmgGjhL"
      },
      "source": [
        "## Ejemplo 4: Or\n",
        "\n",
        "### 1. Objetivos:\n",
        "    - Aprender a extender las capacidades de los `operadores de comparación` usando `or`.\n",
        "    - Usar `or` para llamar `filter` con múltiples filtros.\n",
        "\n",
        "---\n",
        "    \n",
        "### 2. Desarrollo:"
      ]
    },
    {
      "cell_type": "markdown",
      "metadata": {
        "id": "Td8yNlSeGjhN"
      },
      "source": [
        "Vamos a usar las mismas funciones que definimos en nuestro ejemplo pasado:"
      ]
    },
    {
      "cell_type": "code",
      "execution_count": 1,
      "metadata": {
        "id": "0-lblBAsGjhO"
      },
      "outputs": [],
      "source": [
        "def numero_es_divisible_entre_3(numero):\n",
        "\n",
        "    if numero % 3 == 0:\n",
        "        return True\n",
        "    else:\n",
        "        return False"
      ]
    },
    {
      "cell_type": "code",
      "execution_count": 2,
      "metadata": {
        "id": "-bR42GhqGjhP"
      },
      "outputs": [],
      "source": [
        "def numero_es_menor_que_10(numero):\n",
        "\n",
        "    if numero < 10:\n",
        "        return True\n",
        "    else:\n",
        "        return False"
      ]
    },
    {
      "cell_type": "markdown",
      "metadata": {
        "id": "GV4pd6sWGjhP"
      },
      "source": [
        "Pero ahora veamos qué sucede cuando usamos `or` para unir dos comparaciones:"
      ]
    },
    {
      "cell_type": "code",
      "execution_count": 3,
      "metadata": {
        "id": "rGH4YLDyGjhQ",
        "outputId": "413511c6-c688-4125-a2bb-cae3ae65e0c3",
        "colab": {
          "base_uri": "https://localhost:8080/"
        }
      },
      "outputs": [
        {
          "output_type": "execute_result",
          "data": {
            "text/plain": [
              "True"
            ]
          },
          "metadata": {},
          "execution_count": 3
        }
      ],
      "source": [
        "numero_es_divisible_entre_3(9) or numero_es_menor_que_10(9)"
      ]
    },
    {
      "cell_type": "code",
      "execution_count": 4,
      "metadata": {
        "id": "GxpfRlMcGjhR",
        "outputId": "8dc67ce3-2f67-4c16-860b-25fdb61547c9",
        "colab": {
          "base_uri": "https://localhost:8080/"
        }
      },
      "outputs": [
        {
          "output_type": "execute_result",
          "data": {
            "text/plain": [
              "True"
            ]
          },
          "metadata": {},
          "execution_count": 4
        }
      ],
      "source": [
        "numero_es_divisible_entre_3(12) or numero_es_menor_que_10(12)"
      ]
    },
    {
      "cell_type": "code",
      "execution_count": 5,
      "metadata": {
        "id": "3wIbAWaDGjhR",
        "outputId": "9e9247f9-998f-457b-ab4b-87e58045e313",
        "colab": {
          "base_uri": "https://localhost:8080/"
        }
      },
      "outputs": [
        {
          "output_type": "execute_result",
          "data": {
            "text/plain": [
              "True"
            ]
          },
          "metadata": {},
          "execution_count": 5
        }
      ],
      "source": [
        "numero_es_divisible_entre_3(8) or numero_es_menor_que_10(8)"
      ]
    },
    {
      "cell_type": "code",
      "execution_count": 6,
      "metadata": {
        "id": "8QDS9htKGjhS",
        "outputId": "2ee5eafd-15e2-42ba-fad1-5ad997c99358",
        "colab": {
          "base_uri": "https://localhost:8080/"
        }
      },
      "outputs": [
        {
          "output_type": "execute_result",
          "data": {
            "text/plain": [
              "False"
            ]
          },
          "metadata": {},
          "execution_count": 6
        }
      ],
      "source": [
        "numero_es_divisible_entre_3(16) or numero_es_menor_que_10(16)"
      ]
    },
    {
      "cell_type": "markdown",
      "metadata": {
        "id": "2LSIG67sGjhS"
      },
      "source": [
        "Como ves, `or` regresa `True` cuando una de las dos comparaciones regresa `True` o cuando ambas regresan `True`. En cambio, sólo regresa `False` cuando **ambas** comparaciones regresan `False`."
      ]
    },
    {
      "cell_type": "markdown",
      "metadata": {
        "id": "7GBDRG9pGjhS"
      },
      "source": [
        "Veamos ahora qué sucede si lo aplicamos a la misma lista de la vez pasada:"
      ]
    },
    {
      "cell_type": "code",
      "execution_count": 7,
      "metadata": {
        "id": "K9F3FM93GjhT"
      },
      "outputs": [],
      "source": [
        "numeros = [1, 2, 3, 4, 5, 6, 7, 8, 9, 10, 11, 12, 13, 14, 15, 16, 17, 18, 19, 20]"
      ]
    },
    {
      "cell_type": "code",
      "execution_count": 8,
      "metadata": {
        "id": "xCZw-xybGjhT"
      },
      "outputs": [],
      "source": [
        "def numero_es_divisible_entre_3_o_menor_que_10(numero):\n",
        "\n",
        "    return numero_es_divisible_entre_3(numero) or numero_es_menor_que_10(numero)"
      ]
    },
    {
      "cell_type": "code",
      "execution_count": 9,
      "metadata": {
        "id": "IJfaHT6VGjhT",
        "outputId": "0d8028ab-199f-49ba-a502-102df7bd3369",
        "colab": {
          "base_uri": "https://localhost:8080/"
        }
      },
      "outputs": [
        {
          "output_type": "execute_result",
          "data": {
            "text/plain": [
              "[1, 2, 3, 4, 5, 6, 7, 8, 9, 12, 15, 18]"
            ]
          },
          "metadata": {},
          "execution_count": 9
        }
      ],
      "source": [
        "list(filter(numero_es_divisible_entre_3_o_menor_que_10, numeros))"
      ]
    },
    {
      "cell_type": "markdown",
      "metadata": {
        "id": "XRt7-5AIGjhU"
      },
      "source": [
        "¡Interesante! Quedará mucho más claro después de realizar algunos Retos."
      ]
    },
    {
      "cell_type": "code",
      "execution_count": null,
      "metadata": {
        "id": "5IxH1wzfGjhU"
      },
      "outputs": [],
      "source": []
    }
  ],
  "metadata": {
    "kernelspec": {
      "display_name": "Python (data_science)",
      "language": "python",
      "name": "data_science"
    },
    "language_info": {
      "codemirror_mode": {
        "name": "ipython",
        "version": 3
      },
      "file_extension": ".py",
      "mimetype": "text/x-python",
      "name": "python",
      "nbconvert_exporter": "python",
      "pygments_lexer": "ipython3",
      "version": "3.8.5"
    },
    "colab": {
      "provenance": []
    }
  },
  "nbformat": 4,
  "nbformat_minor": 0
}