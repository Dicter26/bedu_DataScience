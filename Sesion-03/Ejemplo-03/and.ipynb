{
  "cells": [
    {
      "cell_type": "markdown",
      "metadata": {
        "id": "lpwkWhocDz60"
      },
      "source": [
        "## Ejemplo 3: And\n",
        "\n",
        "### 1. Objetivos:\n",
        "    - Aprender a extender las capacidades de los `operadores de comparación` usando `and`.\n",
        "    - Usar `and` para llamar `filter` con múltiples filtros.\n",
        "\n",
        "---\n",
        "    \n",
        "### 2. Desarrollo:"
      ]
    },
    {
      "cell_type": "markdown",
      "metadata": {
        "id": "KkHgFOugDz62"
      },
      "source": [
        "Muchas veces una sola `sentencia de comparación` no va ser suficiente para filtrar los datos como queremos. En ese caso, `and` puede ayudarnos a unir dos sentencias. `and` regresa `True` cuando ambas sentencias regresan True.\n",
        "\n",
        "Digamos que tenemos dos funciones que realizan una comparación y regresan `True` cuando la comparación se cumple:"
      ]
    },
    {
      "cell_type": "code",
      "execution_count": 1,
      "metadata": {
        "id": "ja1tSvjmDz63"
      },
      "outputs": [],
      "source": [
        "def numero_es_divisible_entre_3(numero):\n",
        "\n",
        "    if numero % 3 == 0:\n",
        "        return True\n",
        "    else:\n",
        "        return False"
      ]
    },
    {
      "cell_type": "code",
      "execution_count": 2,
      "metadata": {
        "id": "whknzuyeDz64"
      },
      "outputs": [],
      "source": [
        "def numero_es_menor_que_10(numero):\n",
        "\n",
        "    if numero < 10:\n",
        "        return True\n",
        "    else:\n",
        "        return False"
      ]
    },
    {
      "cell_type": "markdown",
      "metadata": {
        "id": "gkhObC_PDz64"
      },
      "source": [
        "Vamos a realizar algunas comparaciones usando ambas funciones para evaluar el mismo número:"
      ]
    },
    {
      "cell_type": "code",
      "execution_count": 3,
      "metadata": {
        "id": "vez2feS_Dz65",
        "outputId": "f652d29d-4350-405a-a987-447065caef61",
        "colab": {
          "base_uri": "https://localhost:8080/"
        }
      },
      "outputs": [
        {
          "output_type": "execute_result",
          "data": {
            "text/plain": [
              "True"
            ]
          },
          "metadata": {},
          "execution_count": 3
        }
      ],
      "source": [
        "numero_es_divisible_entre_3(9) and numero_es_menor_que_10(9)"
      ]
    },
    {
      "cell_type": "code",
      "execution_count": 4,
      "metadata": {
        "id": "c5LsCuQZDz66",
        "outputId": "5ede2fdf-6e40-40c1-8535-8b1d840ae9a8",
        "colab": {
          "base_uri": "https://localhost:8080/"
        }
      },
      "outputs": [
        {
          "output_type": "execute_result",
          "data": {
            "text/plain": [
              "False"
            ]
          },
          "metadata": {},
          "execution_count": 4
        }
      ],
      "source": [
        "numero_es_divisible_entre_3(12) and numero_es_menor_que_10(12)"
      ]
    },
    {
      "cell_type": "code",
      "execution_count": 5,
      "metadata": {
        "id": "LDnKI66xDz66",
        "outputId": "3c69cb78-757b-4e0d-c833-5a88b26191df",
        "colab": {
          "base_uri": "https://localhost:8080/"
        }
      },
      "outputs": [
        {
          "output_type": "execute_result",
          "data": {
            "text/plain": [
              "False"
            ]
          },
          "metadata": {},
          "execution_count": 5
        }
      ],
      "source": [
        "numero_es_divisible_entre_3(8) and numero_es_menor_que_10(8)"
      ]
    },
    {
      "cell_type": "code",
      "execution_count": 6,
      "metadata": {
        "id": "Zf7zzGo4Dz66",
        "outputId": "fa75bc54-254b-49f0-c80d-2dd00232d6ad",
        "colab": {
          "base_uri": "https://localhost:8080/"
        }
      },
      "outputs": [
        {
          "output_type": "execute_result",
          "data": {
            "text/plain": [
              "False"
            ]
          },
          "metadata": {},
          "execution_count": 6
        }
      ],
      "source": [
        "numero_es_divisible_entre_3(16) and numero_es_menor_que_10(16)"
      ]
    },
    {
      "cell_type": "markdown",
      "metadata": {
        "id": "bbXm6cfTDz67"
      },
      "source": [
        "Como puedes ver, `and` sólo regresa `True` cuando ambas comparaciones regresan `True`."
      ]
    },
    {
      "cell_type": "markdown",
      "metadata": {
        "id": "nXaISOrzDz67"
      },
      "source": [
        "Veamos ahora cómo aplicarlo a un `filter`. Tenemos una lista que queremos filtrar:"
      ]
    },
    {
      "cell_type": "code",
      "execution_count": 9,
      "metadata": {
        "id": "O84pVPTSDz68"
      },
      "outputs": [],
      "source": [
        "numeros = [1, 2, 3, 4, 5, 6, 7, 8, 9, 10, 11, 12, 13, 14, 15, 16, 17, 18, 19, 20]"
      ]
    },
    {
      "cell_type": "markdown",
      "metadata": {
        "id": "8td_7F8rDz68"
      },
      "source": [
        "En esta ocasión vamos a construir una función que reúna ambas funciones que tenemos, porque `filter` sólo recibe una función (más adelante veremos otras opciones):"
      ]
    },
    {
      "cell_type": "code",
      "execution_count": 7,
      "metadata": {
        "id": "Czwb-0nFDz68"
      },
      "outputs": [],
      "source": [
        "def numero_es_divisible_entre_3_y_menor_que_10(numero):\n",
        "\n",
        "    return numero_es_divisible_entre_3(numero) and numero_es_menor_que_10(numero)"
      ]
    },
    {
      "cell_type": "markdown",
      "metadata": {
        "id": "0w4cweFUDz68"
      },
      "source": [
        "Ahora la aplicamos:"
      ]
    },
    {
      "cell_type": "code",
      "execution_count": 10,
      "metadata": {
        "id": "-mR4noE6Dz69",
        "outputId": "ade5fdd2-622a-485c-9d2e-479c284cb68e",
        "colab": {
          "base_uri": "https://localhost:8080/"
        }
      },
      "outputs": [
        {
          "output_type": "execute_result",
          "data": {
            "text/plain": [
              "[3, 6, 9]"
            ]
          },
          "metadata": {},
          "execution_count": 10
        }
      ],
      "source": [
        "list(filter(numero_es_divisible_entre_3_y_menor_que_10, numeros))"
      ]
    },
    {
      "cell_type": "markdown",
      "metadata": {
        "id": "qsARTzotDz69"
      },
      "source": [
        "¡Genial! ¿No es así? Vayamos ahora a practicar esta herramienta."
      ]
    },
    {
      "cell_type": "code",
      "execution_count": null,
      "metadata": {
        "id": "Mxzf1iQjDz69"
      },
      "outputs": [],
      "source": []
    }
  ],
  "metadata": {
    "kernelspec": {
      "display_name": "Python (data_science)",
      "language": "python",
      "name": "data_science"
    },
    "language_info": {
      "codemirror_mode": {
        "name": "ipython",
        "version": 3
      },
      "file_extension": ".py",
      "mimetype": "text/x-python",
      "name": "python",
      "nbconvert_exporter": "python",
      "pygments_lexer": "ipython3",
      "version": "3.8.5"
    },
    "colab": {
      "provenance": []
    }
  },
  "nbformat": 4,
  "nbformat_minor": 0
}