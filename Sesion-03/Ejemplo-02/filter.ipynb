{
  "cells": [
    {
      "cell_type": "markdown",
      "metadata": {
        "id": "q4PcexOnCXOg"
      },
      "source": [
        "## Ejemplo 2: Filter\n",
        "\n",
        "### 1. Objetivos:\n",
        "    - Entender cómo funciona la función `filter` y verla aplicada en ejemplos para después poder reproducir su uso\n",
        "\n",
        "---\n",
        "    \n",
        "### 2. Desarrollo:"
      ]
    },
    {
      "cell_type": "markdown",
      "metadata": {
        "id": "WUhLynO5CXOj"
      },
      "source": [
        "`filter` nos permite filtrar nuestras `listas` para dejar fuera elementos que no queremos. Tal vez te parezca un poco extraño esto. ¿Por qué queremos filtrar datos? Una de nuestras tareas más importantes como procesadores de datos es la de limpiar nuestros conjuntos de datos para que tengan solamente los datos que necesitamos para nuestro análisis. Una de las técnicas de limpieza más comunes es la de filtrar nuestro conjunto de datos. Vamos a aprender a hacer esto usando `filter`."
      ]
    },
    {
      "cell_type": "markdown",
      "metadata": {
        "id": "ZZql9AebCXOj"
      },
      "source": [
        "Como ya vimos, `filter` recibe una función y una lista, y regresa una nueva lista con los elementos que fueron filtrados. La función debe de regresar `True` o `False`. Cada que la función regresa `True`, el elemento al que le fue aplicado la función se agrega a la nueva `lista`. Cada que la función regresa `False` (o `None`), el elemento al que le fue aplicado la función es descartado.\n",
        "\n",
        "Veamos esto en acción:"
      ]
    },
    {
      "cell_type": "code",
      "execution_count": 1,
      "metadata": {
        "id": "Y_hq2bL0CXOk"
      },
      "outputs": [],
      "source": [
        "numeros = [1, 2, 3, 4, 5, 6, 7, 8, 9, 10]"
      ]
    },
    {
      "cell_type": "code",
      "execution_count": 2,
      "metadata": {
        "id": "ceGNVvd8CXOl"
      },
      "outputs": [],
      "source": [
        "def numero_es_par(numero):\n",
        "\n",
        "    if numero % 2 == 0:\n",
        "        return True\n",
        "    else:\n",
        "        return False"
      ]
    },
    {
      "cell_type": "code",
      "execution_count": 3,
      "metadata": {
        "id": "kGC7vOc4CXOm",
        "outputId": "3b106b05-2bb8-4f08-b255-1bda51b0e84b",
        "colab": {
          "base_uri": "https://localhost:8080/"
        }
      },
      "outputs": [
        {
          "output_type": "execute_result",
          "data": {
            "text/plain": [
              "[2, 4, 6, 8, 10]"
            ]
          },
          "metadata": {},
          "execution_count": 3
        }
      ],
      "source": [
        "list(filter(numero_es_par, numeros))"
      ]
    },
    {
      "cell_type": "markdown",
      "metadata": {
        "id": "p6ooou9vCXOn"
      },
      "source": [
        "Como nuestra función regresa `True` si el valor es par, nuestra `lista` resultante sólo tiene valores pares.\n",
        "\n",
        "Veamos otro ejemplo:"
      ]
    },
    {
      "cell_type": "code",
      "execution_count": 4,
      "metadata": {
        "id": "isoMXi39CXOn",
        "outputId": "e924767d-5dba-47d8-f2e9-2a0af6e07ad7",
        "colab": {
          "base_uri": "https://localhost:8080/"
        }
      },
      "outputs": [
        {
          "output_type": "execute_result",
          "data": {
            "text/plain": [
              "[6, 7, 8, 9, 10]"
            ]
          },
          "metadata": {},
          "execution_count": 4
        }
      ],
      "source": [
        "def numero_es_mayor_a_5(numero):\n",
        "\n",
        "    if numero > 5:\n",
        "        return True\n",
        "\n",
        "list(filter(numero_es_mayor_a_5, numeros))"
      ]
    },
    {
      "cell_type": "markdown",
      "metadata": {
        "id": "xJE9caL8CXOn"
      },
      "source": [
        "En este caso no agregamos el `if else: return False` porque Python asume que si una función no regresa nada ha regresado un `None`, que cuenta como `False`. Usamos entonces `filter` para quedarnos solamente con los valores que nos interesan de una lista.\n",
        "\n",
        "Algunos ejemplos más:"
      ]
    },
    {
      "cell_type": "code",
      "execution_count": 5,
      "metadata": {
        "id": "TCcaL9AFCXOo",
        "outputId": "88250526-6ba3-4aa3-e78a-e88e30b3e418",
        "colab": {
          "base_uri": "https://localhost:8080/"
        }
      },
      "outputs": [
        {
          "output_type": "execute_result",
          "data": {
            "text/plain": [
              "['achicoria', 'loquillo', 'moquillo', 'jacaranda']"
            ]
          },
          "metadata": {},
          "execution_count": 5
        }
      ],
      "source": [
        "def palabra_tiene_mas_de_5_caracteres(palabra):\n",
        "\n",
        "    if len(palabra) > 5:\n",
        "        return True\n",
        "\n",
        "palabras = [\"achicoria\", \"pasto\", \"sol\", \"loquillo\", \"moquillo\", \"sed\", \"pez\", \"jacaranda\", \"mil\"]\n",
        "\n",
        "list(filter(palabra_tiene_mas_de_5_caracteres, palabras))"
      ]
    },
    {
      "cell_type": "code",
      "execution_count": 6,
      "metadata": {
        "id": "-8TsNwqvCXOo",
        "outputId": "34bbe572-0a31-4b7f-bdb4-b8c18517105d",
        "colab": {
          "base_uri": "https://localhost:8080/"
        }
      },
      "outputs": [
        {
          "output_type": "execute_result",
          "data": {
            "text/plain": [
              "[-1, -7, -8, -78, -46, -1, -2, -4]"
            ]
          },
          "metadata": {},
          "execution_count": 6
        }
      ],
      "source": [
        "def numero_es_negativo(numero):\n",
        "\n",
        "    if numero < 0:\n",
        "        return True\n",
        "\n",
        "numeros = [3, 5, -1, -7, -8, 4, -78, 5, -46, 56, 98, 9, -1, -2, -4]\n",
        "\n",
        "list(filter(numero_es_negativo, numeros))"
      ]
    },
    {
      "cell_type": "code",
      "execution_count": 7,
      "metadata": {
        "id": "4mG2oKtqCXOp",
        "outputId": "32470b3e-1f4a-43c6-9e9d-a1726784bc59",
        "colab": {
          "base_uri": "https://localhost:8080/"
        }
      },
      "outputs": [
        {
          "output_type": "execute_result",
          "data": {
            "text/plain": [
              "[9, 72, 90, 99, 18]"
            ]
          },
          "metadata": {},
          "execution_count": 7
        }
      ],
      "source": [
        "def numero_es_divisible_entre_9(numero):\n",
        "\n",
        "    if numero % 9 == 0:\n",
        "        return True\n",
        "\n",
        "numeros = [3, 7, 9, 34, 72, 90, 87, 34, 99, 56, 12, 18]\n",
        "\n",
        "list(filter(numero_es_divisible_entre_9, numeros))"
      ]
    },
    {
      "cell_type": "markdown",
      "metadata": {
        "id": "8-pabKCcCXOp"
      },
      "source": [
        "¡Ahora es tu turno de poner `filter` en práctica!"
      ]
    }
  ],
  "metadata": {
    "kernelspec": {
      "display_name": "Python (data_science)",
      "language": "python",
      "name": "data_science"
    },
    "language_info": {
      "codemirror_mode": {
        "name": "ipython",
        "version": 3
      },
      "file_extension": ".py",
      "mimetype": "text/x-python",
      "name": "python",
      "nbconvert_exporter": "python",
      "pygments_lexer": "ipython3",
      "version": "3.8.5"
    },
    "colab": {
      "provenance": []
    }
  },
  "nbformat": 4,
  "nbformat_minor": 0
}