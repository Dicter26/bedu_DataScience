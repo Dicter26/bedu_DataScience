{
  "cells": [
    {
      "cell_type": "markdown",
      "metadata": {
        "id": "k9IOM6zwKgLB"
      },
      "source": [
        "## Ejemplo 5: Not\n",
        "\n",
        "### 1. Objetivos:\n",
        "    - Aprender a extender las capacidades de los `operadores de comparación` usando `not`.\n",
        "\n",
        "---\n",
        "    \n",
        "### 2. Desarrollo:"
      ]
    },
    {
      "cell_type": "markdown",
      "metadata": {
        "id": "c8DRsSJeKgLE"
      },
      "source": [
        "`not` es muy sencillo, así que simplemente vamos a ver cómo funciona usando una de nuestras funciones anteriores. `not` recibe un sólo `booleano`, así que por el momento sólo podremos usar una función al mismo tiempo:"
      ]
    },
    {
      "cell_type": "code",
      "execution_count": null,
      "metadata": {
        "id": "ZBZIGX7tKgLE"
      },
      "outputs": [],
      "source": [
        "def numero_es_divisible_entre_3(numero):\n",
        "\n",
        "    if numero % 3 == 0:\n",
        "        return True\n",
        "    else:\n",
        "        return False"
      ]
    },
    {
      "cell_type": "code",
      "execution_count": null,
      "metadata": {
        "id": "ZzjmEPXdKgLG",
        "outputId": "644c5b0b-2251-4180-f226-4b1d94d486f2"
      },
      "outputs": [
        {
          "data": {
            "text/plain": [
              "False"
            ]
          },
          "execution_count": 2,
          "metadata": {},
          "output_type": "execute_result"
        }
      ],
      "source": [
        "not(numero_es_divisible_entre_3(9))"
      ]
    },
    {
      "cell_type": "code",
      "execution_count": null,
      "metadata": {
        "id": "Fcf21ioEKgLH",
        "outputId": "14c94594-dbee-439b-e1d2-532a2f2320de"
      },
      "outputs": [
        {
          "data": {
            "text/plain": [
              "True"
            ]
          },
          "execution_count": 3,
          "metadata": {},
          "output_type": "execute_result"
        }
      ],
      "source": [
        "not(numero_es_divisible_entre_3(10))"
      ]
    },
    {
      "cell_type": "markdown",
      "metadata": {
        "id": "f7XL2zvuKgLH"
      },
      "source": [
        "¿Ves? `not` simplemente regresa `True` cuando la comparación es `False` y viceversa."
      ]
    },
    {
      "cell_type": "markdown",
      "metadata": {
        "id": "sdmQaIOOKgLH"
      },
      "source": [
        "Obviamente esto sólo es útil si podemos aplicarlo a un `filter`. Pero para hacer eso tendremos primero que aprender sobre funciones `lambda`."
      ]
    },
    {
      "cell_type": "code",
      "execution_count": null,
      "metadata": {
        "id": "-X3N18npKgLI"
      },
      "outputs": [],
      "source": []
    }
  ],
  "metadata": {
    "kernelspec": {
      "display_name": "Python (data_science)",
      "language": "python",
      "name": "data_science"
    },
    "language_info": {
      "codemirror_mode": {
        "name": "ipython",
        "version": 3
      },
      "file_extension": ".py",
      "mimetype": "text/x-python",
      "name": "python",
      "nbconvert_exporter": "python",
      "pygments_lexer": "ipython3",
      "version": "3.8.5"
    },
    "colab": {
      "provenance": []
    }
  },
  "nbformat": 4,
  "nbformat_minor": 0
}