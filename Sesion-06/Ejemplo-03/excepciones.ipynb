{
  "cells": [
    {
      "cell_type": "markdown",
      "metadata": {
        "id": "28i_qE0W76OW"
      },
      "source": [
        "## Ejemplo 3: Excepciones y try except\n",
        "\n",
        "### 1. Objetivos:\n",
        "    - Aprender a usar try except para evitar que las excepciones detengan nuestros programas\n",
        "\n",
        "---\n",
        "    \n",
        "### 2. Desarrollo:"
      ]
    },
    {
      "cell_type": "markdown",
      "metadata": {
        "id": "ps4-N13T76OZ"
      },
      "source": [
        "Durante el proceso de un programa pueden suceder diferentes tipos de errores, que llamamos `Excepciones`. Una `Excepción` puede suceder en alguno de estos casos, por ejemplo:"
      ]
    },
    {
      "cell_type": "code",
      "execution_count": 1,
      "metadata": {
        "id": "Nwfch0Cy76Oa",
        "outputId": "4d8464c0-3261-4d30-be7c-ffe995a7cdad",
        "colab": {
          "base_uri": "https://localhost:8080/",
          "height": 201
        }
      },
      "outputs": [
        {
          "output_type": "error",
          "ename": "IndexError",
          "evalue": "ignored",
          "traceback": [
            "\u001b[0;31m---------------------------------------------------------------------------\u001b[0m",
            "\u001b[0;31mIndexError\u001b[0m                                Traceback (most recent call last)",
            "\u001b[0;32m<ipython-input-1-f0bb0e1b4da7>\u001b[0m in \u001b[0;36m<cell line: 3>\u001b[0;34m()\u001b[0m\n\u001b[1;32m      1\u001b[0m \u001b[0mlista_1\u001b[0m \u001b[0;34m=\u001b[0m \u001b[0;34m[\u001b[0m\u001b[0;36m1\u001b[0m\u001b[0;34m,\u001b[0m \u001b[0;36m2\u001b[0m\u001b[0;34m,\u001b[0m \u001b[0;36m3\u001b[0m\u001b[0;34m,\u001b[0m \u001b[0;36m4\u001b[0m\u001b[0;34m,\u001b[0m \u001b[0;36m5\u001b[0m\u001b[0;34m]\u001b[0m\u001b[0;34m\u001b[0m\u001b[0;34m\u001b[0m\u001b[0m\n\u001b[1;32m      2\u001b[0m \u001b[0;34m\u001b[0m\u001b[0m\n\u001b[0;32m----> 3\u001b[0;31m \u001b[0mlista_1\u001b[0m\u001b[0;34m[\u001b[0m\u001b[0;36m10\u001b[0m\u001b[0;34m]\u001b[0m\u001b[0;34m\u001b[0m\u001b[0;34m\u001b[0m\u001b[0m\n\u001b[0m",
            "\u001b[0;31mIndexError\u001b[0m: list index out of range"
          ]
        }
      ],
      "source": [
        "lista_1 = [1, 2, 3, 4, 5]\n",
        "\n",
        "lista_1[10]"
      ]
    },
    {
      "cell_type": "code",
      "execution_count": null,
      "metadata": {
        "id": "unHVh9QQ76Oc"
      },
      "outputs": [],
      "source": [
        "dict_1 = {\n",
        "    'a': 1,\n",
        "    'b': 2,\n",
        "    'c': 3,\n",
        "    'd': 4\n",
        "}\n",
        "\n",
        "dict_1['z']"
      ]
    },
    {
      "cell_type": "code",
      "execution_count": 2,
      "metadata": {
        "id": "NEUESwHO76Oc",
        "outputId": "43411bd0-8847-4e42-fce7-41d9275f3eec",
        "colab": {
          "base_uri": "https://localhost:8080/",
          "height": 166
        }
      },
      "outputs": [
        {
          "output_type": "error",
          "ename": "ValueError",
          "evalue": "ignored",
          "traceback": [
            "\u001b[0;31m---------------------------------------------------------------------------\u001b[0m",
            "\u001b[0;31mValueError\u001b[0m                                Traceback (most recent call last)",
            "\u001b[0;32m<ipython-input-2-639408661f5f>\u001b[0m in \u001b[0;36m<cell line: 1>\u001b[0;34m()\u001b[0m\n\u001b[0;32m----> 1\u001b[0;31m \u001b[0mint\u001b[0m\u001b[0;34m(\u001b[0m\u001b[0;34m\"Holi\"\u001b[0m\u001b[0;34m)\u001b[0m\u001b[0;34m\u001b[0m\u001b[0;34m\u001b[0m\u001b[0m\n\u001b[0m",
            "\u001b[0;31mValueError\u001b[0m: invalid literal for int() with base 10: 'Holi'"
          ]
        }
      ],
      "source": [
        "int(\"Holi\")"
      ]
    },
    {
      "cell_type": "markdown",
      "metadata": {
        "id": "UKGOKh3M76Od"
      },
      "source": [
        "Cuando automatizamos programas, tenemos que evitar que Excepciones ocurran, pues detendrían nuestro programa y arruinarían nuestra automatización. Podemos usar estructuras try except para evitar que esto suceda:"
      ]
    },
    {
      "cell_type": "code",
      "execution_count": 3,
      "metadata": {
        "id": "F4QuHsFQ76Od",
        "outputId": "ffb3ac8a-16da-4b3d-aa61-17136a67db79",
        "colab": {
          "base_uri": "https://localhost:8080/"
        }
      },
      "outputs": [
        {
          "output_type": "stream",
          "name": "stdout",
          "text": [
            "Ese numero esta fuera de rango\n",
            "Mejor leamos este número\n",
            "3\n"
          ]
        }
      ],
      "source": [
        "lista_2 = [1, 2, 3, 4, 5]\n",
        "\n",
        "try:\n",
        "    print(lista_2[10])\n",
        "except:\n",
        "    print(\"Ese numero esta fuera de rango\")\n",
        "    print(\"Mejor leamos este número\")\n",
        "    print(lista_2[2])"
      ]
    },
    {
      "cell_type": "code",
      "execution_count": 4,
      "metadata": {
        "id": "_qkDfmBu76Od",
        "outputId": "ed00725a-9474-4028-d4a9-5ede8ec459a5",
        "colab": {
          "base_uri": "https://localhost:8080/"
        }
      },
      "outputs": [
        {
          "output_type": "stream",
          "name": "stdout",
          "text": [
            "Esa llave no existe\n",
            "Mejor leamos esta llave\n",
            "2\n"
          ]
        }
      ],
      "source": [
        "dict_2 = {\n",
        "    'a': 1,\n",
        "    'b': 2,\n",
        "    'c': 3,\n",
        "    'd': 4\n",
        "}\n",
        "\n",
        "try:\n",
        "    print(dict_2['z'])\n",
        "except:\n",
        "    print(\"Esa llave no existe\")\n",
        "    print(\"Mejor leamos esta llave\")\n",
        "    print(dict_2['b'])"
      ]
    },
    {
      "cell_type": "code",
      "execution_count": 5,
      "metadata": {
        "id": "OdKXr-xp76Oe",
        "outputId": "03432b0b-d0b6-463c-af98-b2218487fd32",
        "colab": {
          "base_uri": "https://localhost:8080/"
        }
      },
      "outputs": [
        {
          "output_type": "stream",
          "name": "stdout",
          "text": [
            "Ese no es un número\n",
            "Mejor vamos a imprimirlo convirtiéndolo en una lista\n",
            "['H', 'o', 'l', 'i']\n"
          ]
        }
      ],
      "source": [
        "try:\n",
        "    print(int(\"Holi\"))\n",
        "except:\n",
        "    print(\"Ese no es un número\")\n",
        "    print(\"Mejor vamos a imprimirlo convirtiéndolo en una lista\")\n",
        "    print(list(\"Holi\"))"
      ]
    },
    {
      "cell_type": "code",
      "execution_count": null,
      "metadata": {
        "id": "U5S9sZKB76Oe"
      },
      "outputs": [],
      "source": []
    }
  ],
  "metadata": {
    "kernelspec": {
      "display_name": "Python (data_science)",
      "language": "python",
      "name": "data_science"
    },
    "language_info": {
      "codemirror_mode": {
        "name": "ipython",
        "version": 3
      },
      "file_extension": ".py",
      "mimetype": "text/x-python",
      "name": "python",
      "nbconvert_exporter": "python",
      "pygments_lexer": "ipython3",
      "version": "3.8.1"
    },
    "colab": {
      "provenance": []
    }
  },
  "nbformat": 4,
  "nbformat_minor": 0
}